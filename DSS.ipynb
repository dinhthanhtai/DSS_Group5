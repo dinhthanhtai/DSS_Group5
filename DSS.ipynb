{
 "cells": [
  {
   "cell_type": "code",
   "execution_count": 73,
   "metadata": {},
   "outputs": [],
   "source": [
    "import pandas as pd\n",
    "import numpy as np\n",
    "import matplotlib.pyplot as plt\n",
    "import seaborn as sns; sns.set()\n",
    "import datetime as dt\n",
    "\n",
    "from sklearn.preprocessing import MinMaxScaler\n",
    "from sklearn.metrics import r2_score\n",
    "%matplotlib inline\n",
    "def adj_r2_score(r2, n, k):\n",
    "    return 1-((1-r2)*((n-1)/(n-k-1)))"
   ]
  },
  {
   "cell_type": "code",
   "execution_count": 2,
   "metadata": {},
   "outputs": [],
   "source": [
    " \n",
    "# Models from Scikit-Learn\n",
    "from sklearn.ensemble import RandomForestRegressor\n",
    " \n",
    "# Model Evaluations\n",
    " \n",
    "from sklearn.model_selection import cross_val_predict, cross_val_score, train_test_split, RandomizedSearchCV, GridSearchCV\n",
    "from sklearn.metrics import confusion_matrix, classification_report, mean_absolute_error, mean_squared_error, mean_squared_log_error, r2_score\n",
    " \n",
    "#%%"
   ]
  },
  {
   "cell_type": "code",
   "execution_count": 3,
   "metadata": {},
   "outputs": [],
   "source": [
    "dsUSDEUR = pd.read_csv('One_Handled.csv')\n",
    "data2 = pd.read_csv('')\n",
    " "
   ]
  },
  {
   "cell_type": "code",
   "execution_count": 4,
   "metadata": {},
   "outputs": [],
   "source": [
    " \n",
    "frames = [data1, data2]\n",
    "dsUSDEUR = pd.concat(frames)\n",
    " "
   ]
  },
  {
   "cell_type": "code",
   "execution_count": 4,
   "metadata": {},
   "outputs": [
    {
     "name": "stdout",
     "output_type": "stream",
     "text": [
      "<class 'pandas.core.frame.DataFrame'>\n",
      "RangeIndex: 200 entries, 0 to 199\n",
      "Data columns (total 10 columns):\n",
      " #   Column  Non-Null Count  Dtype  \n",
      "---  ------  --------------  -----  \n",
      " 0   Time    200 non-null    object \n",
      " 1   Open    200 non-null    float64\n",
      " 2   High    200 non-null    float64\n",
      " 3   Low     200 non-null    float64\n",
      " 4   Close   200 non-null    float64\n",
      " 5   Volume  200 non-null    float64\n",
      " 6   Day     200 non-null    int64  \n",
      " 7   Month   200 non-null    int64  \n",
      " 8   Year    200 non-null    int64  \n",
      " 9   Hour    200 non-null    int64  \n",
      "dtypes: float64(5), int64(4), object(1)\n",
      "memory usage: 15.8+ KB\n"
     ]
    }
   ],
   "source": [
    "#%%\n",
    " \n",
    "dsUSDEUR.info()\n",
    " "
   ]
  },
  {
   "cell_type": "code",
   "execution_count": 5,
   "metadata": {},
   "outputs": [
    {
     "data": {
      "text/html": [
       "<div>\n",
       "<style scoped>\n",
       "    .dataframe tbody tr th:only-of-type {\n",
       "        vertical-align: middle;\n",
       "    }\n",
       "\n",
       "    .dataframe tbody tr th {\n",
       "        vertical-align: top;\n",
       "    }\n",
       "\n",
       "    .dataframe thead th {\n",
       "        text-align: right;\n",
       "    }\n",
       "</style>\n",
       "<table border=\"1\" class=\"dataframe\">\n",
       "  <thead>\n",
       "    <tr style=\"text-align: right;\">\n",
       "      <th></th>\n",
       "      <th>Time</th>\n",
       "      <th>Open</th>\n",
       "      <th>High</th>\n",
       "      <th>Low</th>\n",
       "      <th>Close</th>\n",
       "      <th>Volume</th>\n",
       "      <th>Day</th>\n",
       "      <th>Month</th>\n",
       "      <th>Year</th>\n",
       "      <th>Hour</th>\n",
       "    </tr>\n",
       "  </thead>\n",
       "  <tbody>\n",
       "    <tr>\n",
       "      <th>0</th>\n",
       "      <td>01.01.2013 01:00:00.000</td>\n",
       "      <td>1.31975</td>\n",
       "      <td>1.32991</td>\n",
       "      <td>1.31570</td>\n",
       "      <td>1.31833</td>\n",
       "      <td>174395.5469</td>\n",
       "      <td>1</td>\n",
       "      <td>1</td>\n",
       "      <td>2013</td>\n",
       "      <td>1</td>\n",
       "    </tr>\n",
       "    <tr>\n",
       "      <th>1</th>\n",
       "      <td>02.01.2013 01:00:00.000</td>\n",
       "      <td>1.31836</td>\n",
       "      <td>1.31887</td>\n",
       "      <td>1.30222</td>\n",
       "      <td>1.30243</td>\n",
       "      <td>173935.4375</td>\n",
       "      <td>2</td>\n",
       "      <td>1</td>\n",
       "      <td>2013</td>\n",
       "      <td>1</td>\n",
       "    </tr>\n",
       "    <tr>\n",
       "      <th>2</th>\n",
       "      <td>03.01.2013 01:00:00.000</td>\n",
       "      <td>1.30240</td>\n",
       "      <td>1.30892</td>\n",
       "      <td>1.29971</td>\n",
       "      <td>1.30678</td>\n",
       "      <td>163991.1094</td>\n",
       "      <td>3</td>\n",
       "      <td>1</td>\n",
       "      <td>2013</td>\n",
       "      <td>1</td>\n",
       "    </tr>\n",
       "    <tr>\n",
       "      <th>3</th>\n",
       "      <td>04.01.2013 01:00:00.000</td>\n",
       "      <td>1.30678</td>\n",
       "      <td>1.30678</td>\n",
       "      <td>1.30678</td>\n",
       "      <td>1.30678</td>\n",
       "      <td>0.0000</td>\n",
       "      <td>4</td>\n",
       "      <td>1</td>\n",
       "      <td>2013</td>\n",
       "      <td>1</td>\n",
       "    </tr>\n",
       "    <tr>\n",
       "      <th>4</th>\n",
       "      <td>05.01.2013 01:00:00.000</td>\n",
       "      <td>1.30745</td>\n",
       "      <td>1.30792</td>\n",
       "      <td>1.30655</td>\n",
       "      <td>1.30676</td>\n",
       "      <td>4326.2202</td>\n",
       "      <td>5</td>\n",
       "      <td>1</td>\n",
       "      <td>2013</td>\n",
       "      <td>1</td>\n",
       "    </tr>\n",
       "  </tbody>\n",
       "</table>\n",
       "</div>"
      ],
      "text/plain": [
       "                      Time     Open     High      Low    Close       Volume  \\\n",
       "0  01.01.2013 01:00:00.000  1.31975  1.32991  1.31570  1.31833  174395.5469   \n",
       "1  02.01.2013 01:00:00.000  1.31836  1.31887  1.30222  1.30243  173935.4375   \n",
       "2  03.01.2013 01:00:00.000  1.30240  1.30892  1.29971  1.30678  163991.1094   \n",
       "3  04.01.2013 01:00:00.000  1.30678  1.30678  1.30678  1.30678       0.0000   \n",
       "4  05.01.2013 01:00:00.000  1.30745  1.30792  1.30655  1.30676    4326.2202   \n",
       "\n",
       "   Day  Month  Year  Hour  \n",
       "0    1      1  2013     1  \n",
       "1    2      1  2013     1  \n",
       "2    3      1  2013     1  \n",
       "3    4      1  2013     1  \n",
       "4    5      1  2013     1  "
      ]
     },
     "execution_count": 5,
     "metadata": {},
     "output_type": "execute_result"
    }
   ],
   "source": [
    " \n",
    "dsUSDEUR.head()\n",
    " \n",
    "# tu bang thi ta co the nhan xet rang du lieu duoc lay sau moi 15 phut\n",
    " \n",
    "#%%"
   ]
  },
  {
   "cell_type": "code",
   "execution_count": 6,
   "metadata": {},
   "outputs": [
    {
     "data": {
      "text/plain": [
       "Time      0\n",
       "Open      0\n",
       "High      0\n",
       "Low       0\n",
       "Close     0\n",
       "Volume    0\n",
       "Day       0\n",
       "Month     0\n",
       "Year      0\n",
       "Hour      0\n",
       "dtype: int64"
      ]
     },
     "execution_count": 6,
     "metadata": {},
     "output_type": "execute_result"
    }
   ],
   "source": [
    " \n",
    "# Missing values?\n",
    "dsUSDEUR.isna().sum()\n",
    " "
   ]
  },
  {
   "cell_type": "code",
   "execution_count": 7,
   "metadata": {},
   "outputs": [
    {
     "name": "stdout",
     "output_type": "stream",
     "text": [
      "<class 'pandas.core.frame.DataFrame'>\n",
      "RangeIndex: 50 entries, 0 to 49\n",
      "Data columns (total 10 columns):\n",
      " #   Column  Non-Null Count  Dtype  \n",
      "---  ------  --------------  -----  \n",
      " 0   Time    50 non-null     object \n",
      " 1   Open    50 non-null     float64\n",
      " 2   High    50 non-null     float64\n",
      " 3   Low     50 non-null     float64\n",
      " 4   Close   50 non-null     float64\n",
      " 5   Volume  50 non-null     float64\n",
      " 6   Day     50 non-null     int64  \n",
      " 7   Month   50 non-null     int64  \n",
      " 8   Year    50 non-null     int64  \n",
      " 9   Hour    50 non-null     int64  \n",
      "dtypes: float64(5), int64(4), object(1)\n",
      "memory usage: 4.0+ KB\n"
     ]
    }
   ],
   "source": [
    "# => du lieu cleaned\n",
    " \n",
    "test = dsUSDEUR.head(50)\n",
    "  \n",
    "test.info()\n",
    " \n"
   ]
  },
  {
   "cell_type": "code",
   "execution_count": 8,
   "metadata": {},
   "outputs": [
    {
     "data": {
      "text/plain": [
       "<AxesSubplot:>"
      ]
     },
     "execution_count": 8,
     "metadata": {},
     "output_type": "execute_result"
    },
    {
     "data": {
      "image/png": "[encoded data removed]",
      "text/plain": [
       "<Figure size 432x288 with 1 Axes>"
      ]
     },
     "metadata": {},
     "output_type": "display_data"
    }
   ],
   "source": [
    "sns.set_theme(style=\"darkgrid\")\n",
    "testRate = test.drop(['Volume'], axis=1)\n",
    " \n",
    "sns.lineplot(data=testRate, palette=\"tab10\", linewidth=1)\n",
    " \n",
    " \n",
    " "
   ]
  },
  {
   "cell_type": "code",
   "execution_count": 14,
   "metadata": {},
   "outputs": [
    {
     "data": {
      "image/png": "[encoded data removed]",
      "text/plain": [
       "<Figure size 432x288 with 1 Axes>"
      ]
     },
     "metadata": {},
     "output_type": "display_data"
    },
    {
     "data": {
      "image/png": "[encoded data removed]",
      "text/plain": [
       "<Figure size 432x288 with 1 Axes>"
      ]
     },
     "metadata": {},
     "output_type": "display_data"
    }
   ],
   "source": [
    "#%%\n",
    "# testRate['Time'] = testRate['Time'].astype(int)\n",
    "size = int(len(testRate)*0.80)\n",
    "train_data = testRate[:size]\n",
    "test_data = testRate[size:]\n",
    "\n",
    "train_data.plot(legend=True)\n",
    "test_data.plot(legend=True)\n",
    "plt.legend(['Train', 'Test'])\n",
    "plt.show()\n",
    " "
   ]
  },
  {
   "cell_type": "code",
   "execution_count": 29,
   "metadata": {},
   "outputs": [
    {
     "ename": "ValueError",
     "evalue": "could not convert string to float: '01.01.2013 01:00:00.000'",
     "output_type": "error",
     "traceback": [
      "\u001b[1;31m---------------------------------------------------------------------------\u001b[0m",
      "\u001b[1;31mValueError\u001b[0m                                Traceback (most recent call last)",
      "\u001b[1;32m<ipython-input-29-a7035f4bae74>\u001b[0m in \u001b[0;36m<module>\u001b[1;34m\u001b[0m\n\u001b[0;32m      1\u001b[0m \u001b[0msc\u001b[0m \u001b[1;33m=\u001b[0m \u001b[0mMinMaxScaler\u001b[0m\u001b[1;33m(\u001b[0m\u001b[1;33m)\u001b[0m\u001b[1;33m\u001b[0m\u001b[0m\n\u001b[1;32m----> 2\u001b[1;33m \u001b[0mtrain_sc\u001b[0m \u001b[1;33m=\u001b[0m \u001b[0msc\u001b[0m\u001b[1;33m.\u001b[0m\u001b[0mfit_transform\u001b[0m\u001b[1;33m(\u001b[0m\u001b[0mtrain_data\u001b[0m\u001b[1;33m)\u001b[0m\u001b[1;33m\u001b[0m\u001b[0m\n\u001b[0m\u001b[0;32m      3\u001b[0m \u001b[0mtest_sc\u001b[0m \u001b[1;33m=\u001b[0m \u001b[0msc\u001b[0m\u001b[1;33m.\u001b[0m\u001b[0mtransform\u001b[0m\u001b[1;33m(\u001b[0m\u001b[0mtest_data\u001b[0m\u001b[1;33m)\u001b[0m\u001b[1;33m\u001b[0m\u001b[0m\n",
      "\u001b[1;32mc:\\users\\admin\\appdata\\local\\programs\\python\\python37\\lib\\site-packages\\sklearn\\base.py\u001b[0m in \u001b[0;36mfit_transform\u001b[1;34m(self, X, y, **fit_params)\u001b[0m\n\u001b[0;32m    688\u001b[0m         \u001b[1;32mif\u001b[0m \u001b[0my\u001b[0m \u001b[1;32mis\u001b[0m \u001b[1;32mNone\u001b[0m\u001b[1;33m:\u001b[0m\u001b[1;33m\u001b[0m\u001b[0m\n\u001b[0;32m    689\u001b[0m             \u001b[1;31m# fit method of arity 1 (unsupervised transformation)\u001b[0m\u001b[1;33m\u001b[0m\u001b[1;33m\u001b[0m\u001b[0m\n\u001b[1;32m--> 690\u001b[1;33m             \u001b[1;32mreturn\u001b[0m \u001b[0mself\u001b[0m\u001b[1;33m.\u001b[0m\u001b[0mfit\u001b[0m\u001b[1;33m(\u001b[0m\u001b[0mX\u001b[0m\u001b[1;33m,\u001b[0m \u001b[1;33m**\u001b[0m\u001b[0mfit_params\u001b[0m\u001b[1;33m)\u001b[0m\u001b[1;33m.\u001b[0m\u001b[0mtransform\u001b[0m\u001b[1;33m(\u001b[0m\u001b[0mX\u001b[0m\u001b[1;33m)\u001b[0m\u001b[1;33m\u001b[0m\u001b[0m\n\u001b[0m\u001b[0;32m    691\u001b[0m         \u001b[1;32melse\u001b[0m\u001b[1;33m:\u001b[0m\u001b[1;33m\u001b[0m\u001b[0m\n\u001b[0;32m    692\u001b[0m             \u001b[1;31m# fit method of arity 2 (supervised transformation)\u001b[0m\u001b[1;33m\u001b[0m\u001b[1;33m\u001b[0m\u001b[0m\n",
      "\u001b[1;32mc:\\users\\admin\\appdata\\local\\programs\\python\\python37\\lib\\site-packages\\sklearn\\preprocessing\\_data.py\u001b[0m in \u001b[0;36mfit\u001b[1;34m(self, X, y)\u001b[0m\n\u001b[0;32m    334\u001b[0m         \u001b[1;31m# Reset internal state before fitting\u001b[0m\u001b[1;33m\u001b[0m\u001b[1;33m\u001b[0m\u001b[0m\n\u001b[0;32m    335\u001b[0m         \u001b[0mself\u001b[0m\u001b[1;33m.\u001b[0m\u001b[0m_reset\u001b[0m\u001b[1;33m(\u001b[0m\u001b[1;33m)\u001b[0m\u001b[1;33m\u001b[0m\u001b[0m\n\u001b[1;32m--> 336\u001b[1;33m         \u001b[1;32mreturn\u001b[0m \u001b[0mself\u001b[0m\u001b[1;33m.\u001b[0m\u001b[0mpartial_fit\u001b[0m\u001b[1;33m(\u001b[0m\u001b[0mX\u001b[0m\u001b[1;33m,\u001b[0m \u001b[0my\u001b[0m\u001b[1;33m)\u001b[0m\u001b[1;33m\u001b[0m\u001b[0m\n\u001b[0m\u001b[0;32m    337\u001b[0m \u001b[1;33m\u001b[0m\u001b[0m\n\u001b[0;32m    338\u001b[0m     \u001b[1;32mdef\u001b[0m \u001b[0mpartial_fit\u001b[0m\u001b[1;33m(\u001b[0m\u001b[0mself\u001b[0m\u001b[1;33m,\u001b[0m \u001b[0mX\u001b[0m\u001b[1;33m,\u001b[0m \u001b[0my\u001b[0m\u001b[1;33m=\u001b[0m\u001b[1;32mNone\u001b[0m\u001b[1;33m)\u001b[0m\u001b[1;33m:\u001b[0m\u001b[1;33m\u001b[0m\u001b[0m\n",
      "\u001b[1;32mc:\\users\\admin\\appdata\\local\\programs\\python\\python37\\lib\\site-packages\\sklearn\\preprocessing\\_data.py\u001b[0m in \u001b[0;36mpartial_fit\u001b[1;34m(self, X, y)\u001b[0m\n\u001b[0;32m    369\u001b[0m         X = self._validate_data(X, reset=first_pass,\n\u001b[0;32m    370\u001b[0m                                 \u001b[0mestimator\u001b[0m\u001b[1;33m=\u001b[0m\u001b[0mself\u001b[0m\u001b[1;33m,\u001b[0m \u001b[0mdtype\u001b[0m\u001b[1;33m=\u001b[0m\u001b[0mFLOAT_DTYPES\u001b[0m\u001b[1;33m,\u001b[0m\u001b[1;33m\u001b[0m\u001b[0m\n\u001b[1;32m--> 371\u001b[1;33m                                 force_all_finite=\"allow-nan\")\n\u001b[0m\u001b[0;32m    372\u001b[0m \u001b[1;33m\u001b[0m\u001b[0m\n\u001b[0;32m    373\u001b[0m         \u001b[0mdata_min\u001b[0m \u001b[1;33m=\u001b[0m \u001b[0mnp\u001b[0m\u001b[1;33m.\u001b[0m\u001b[0mnanmin\u001b[0m\u001b[1;33m(\u001b[0m\u001b[0mX\u001b[0m\u001b[1;33m,\u001b[0m \u001b[0maxis\u001b[0m\u001b[1;33m=\u001b[0m\u001b[1;36m0\u001b[0m\u001b[1;33m)\u001b[0m\u001b[1;33m\u001b[0m\u001b[0m\n",
      "\u001b[1;32mc:\\users\\admin\\appdata\\local\\programs\\python\\python37\\lib\\site-packages\\sklearn\\base.py\u001b[0m in \u001b[0;36m_validate_data\u001b[1;34m(self, X, y, reset, validate_separately, **check_params)\u001b[0m\n\u001b[0;32m    418\u001b[0m                     \u001b[1;34mf\"requires y to be passed, but the target y is None.\"\u001b[0m\u001b[1;33m\u001b[0m\u001b[0m\n\u001b[0;32m    419\u001b[0m                 )\n\u001b[1;32m--> 420\u001b[1;33m             \u001b[0mX\u001b[0m \u001b[1;33m=\u001b[0m \u001b[0mcheck_array\u001b[0m\u001b[1;33m(\u001b[0m\u001b[0mX\u001b[0m\u001b[1;33m,\u001b[0m \u001b[1;33m**\u001b[0m\u001b[0mcheck_params\u001b[0m\u001b[1;33m)\u001b[0m\u001b[1;33m\u001b[0m\u001b[0m\n\u001b[0m\u001b[0;32m    421\u001b[0m             \u001b[0mout\u001b[0m \u001b[1;33m=\u001b[0m \u001b[0mX\u001b[0m\u001b[1;33m\u001b[0m\u001b[0m\n\u001b[0;32m    422\u001b[0m         \u001b[1;32melse\u001b[0m\u001b[1;33m:\u001b[0m\u001b[1;33m\u001b[0m\u001b[0m\n",
      "\u001b[1;32mc:\\users\\admin\\appdata\\local\\programs\\python\\python37\\lib\\site-packages\\sklearn\\utils\\validation.py\u001b[0m in \u001b[0;36minner_f\u001b[1;34m(*args, **kwargs)\u001b[0m\n\u001b[0;32m     70\u001b[0m                           FutureWarning)\n\u001b[0;32m     71\u001b[0m         \u001b[0mkwargs\u001b[0m\u001b[1;33m.\u001b[0m\u001b[0mupdate\u001b[0m\u001b[1;33m(\u001b[0m\u001b[1;33m{\u001b[0m\u001b[0mk\u001b[0m\u001b[1;33m:\u001b[0m \u001b[0marg\u001b[0m \u001b[1;32mfor\u001b[0m \u001b[0mk\u001b[0m\u001b[1;33m,\u001b[0m \u001b[0marg\u001b[0m \u001b[1;32min\u001b[0m \u001b[0mzip\u001b[0m\u001b[1;33m(\u001b[0m\u001b[0msig\u001b[0m\u001b[1;33m.\u001b[0m\u001b[0mparameters\u001b[0m\u001b[1;33m,\u001b[0m \u001b[0margs\u001b[0m\u001b[1;33m)\u001b[0m\u001b[1;33m}\u001b[0m\u001b[1;33m)\u001b[0m\u001b[1;33m\u001b[0m\u001b[0m\n\u001b[1;32m---> 72\u001b[1;33m         \u001b[1;32mreturn\u001b[0m \u001b[0mf\u001b[0m\u001b[1;33m(\u001b[0m\u001b[1;33m**\u001b[0m\u001b[0mkwargs\u001b[0m\u001b[1;33m)\u001b[0m\u001b[1;33m\u001b[0m\u001b[0m\n\u001b[0m\u001b[0;32m     73\u001b[0m     \u001b[1;32mreturn\u001b[0m \u001b[0minner_f\u001b[0m\u001b[1;33m\u001b[0m\u001b[0m\n\u001b[0;32m     74\u001b[0m \u001b[1;33m\u001b[0m\u001b[0m\n",
      "\u001b[1;32mc:\\users\\admin\\appdata\\local\\programs\\python\\python37\\lib\\site-packages\\sklearn\\utils\\validation.py\u001b[0m in \u001b[0;36mcheck_array\u001b[1;34m(array, accept_sparse, accept_large_sparse, dtype, order, copy, force_all_finite, ensure_2d, allow_nd, ensure_min_samples, ensure_min_features, estimator)\u001b[0m\n\u001b[0;32m    596\u001b[0m                     \u001b[0marray\u001b[0m \u001b[1;33m=\u001b[0m \u001b[0marray\u001b[0m\u001b[1;33m.\u001b[0m\u001b[0mastype\u001b[0m\u001b[1;33m(\u001b[0m\u001b[0mdtype\u001b[0m\u001b[1;33m,\u001b[0m \u001b[0mcasting\u001b[0m\u001b[1;33m=\u001b[0m\u001b[1;34m\"unsafe\"\u001b[0m\u001b[1;33m,\u001b[0m \u001b[0mcopy\u001b[0m\u001b[1;33m=\u001b[0m\u001b[1;32mFalse\u001b[0m\u001b[1;33m)\u001b[0m\u001b[1;33m\u001b[0m\u001b[0m\n\u001b[0;32m    597\u001b[0m                 \u001b[1;32melse\u001b[0m\u001b[1;33m:\u001b[0m\u001b[1;33m\u001b[0m\u001b[0m\n\u001b[1;32m--> 598\u001b[1;33m                     \u001b[0marray\u001b[0m \u001b[1;33m=\u001b[0m \u001b[0mnp\u001b[0m\u001b[1;33m.\u001b[0m\u001b[0masarray\u001b[0m\u001b[1;33m(\u001b[0m\u001b[0marray\u001b[0m\u001b[1;33m,\u001b[0m \u001b[0morder\u001b[0m\u001b[1;33m=\u001b[0m\u001b[0morder\u001b[0m\u001b[1;33m,\u001b[0m \u001b[0mdtype\u001b[0m\u001b[1;33m=\u001b[0m\u001b[0mdtype\u001b[0m\u001b[1;33m)\u001b[0m\u001b[1;33m\u001b[0m\u001b[0m\n\u001b[0m\u001b[0;32m    599\u001b[0m             \u001b[1;32mexcept\u001b[0m \u001b[0mComplexWarning\u001b[0m\u001b[1;33m:\u001b[0m\u001b[1;33m\u001b[0m\u001b[0m\n\u001b[0;32m    600\u001b[0m                 raise ValueError(\"Complex data not supported\\n\"\n",
      "\u001b[1;32mc:\\users\\admin\\appdata\\local\\programs\\python\\python37\\lib\\site-packages\\numpy\\core\\_asarray.py\u001b[0m in \u001b[0;36masarray\u001b[1;34m(a, dtype, order)\u001b[0m\n\u001b[0;32m     83\u001b[0m \u001b[1;33m\u001b[0m\u001b[0m\n\u001b[0;32m     84\u001b[0m     \"\"\"\n\u001b[1;32m---> 85\u001b[1;33m     \u001b[1;32mreturn\u001b[0m \u001b[0marray\u001b[0m\u001b[1;33m(\u001b[0m\u001b[0ma\u001b[0m\u001b[1;33m,\u001b[0m \u001b[0mdtype\u001b[0m\u001b[1;33m,\u001b[0m \u001b[0mcopy\u001b[0m\u001b[1;33m=\u001b[0m\u001b[1;32mFalse\u001b[0m\u001b[1;33m,\u001b[0m \u001b[0morder\u001b[0m\u001b[1;33m=\u001b[0m\u001b[0morder\u001b[0m\u001b[1;33m)\u001b[0m\u001b[1;33m\u001b[0m\u001b[0m\n\u001b[0m\u001b[0;32m     86\u001b[0m \u001b[1;33m\u001b[0m\u001b[0m\n\u001b[0;32m     87\u001b[0m \u001b[1;33m\u001b[0m\u001b[0m\n",
      "\u001b[1;32mc:\\users\\admin\\appdata\\local\\programs\\python\\python37\\lib\\site-packages\\pandas\\core\\generic.py\u001b[0m in \u001b[0;36m__array__\u001b[1;34m(self, dtype)\u001b[0m\n\u001b[0;32m   1779\u001b[0m \u001b[1;33m\u001b[0m\u001b[0m\n\u001b[0;32m   1780\u001b[0m     \u001b[1;32mdef\u001b[0m \u001b[0m__array__\u001b[0m\u001b[1;33m(\u001b[0m\u001b[0mself\u001b[0m\u001b[1;33m,\u001b[0m \u001b[0mdtype\u001b[0m\u001b[1;33m=\u001b[0m\u001b[1;32mNone\u001b[0m\u001b[1;33m)\u001b[0m \u001b[1;33m->\u001b[0m \u001b[0mnp\u001b[0m\u001b[1;33m.\u001b[0m\u001b[0mndarray\u001b[0m\u001b[1;33m:\u001b[0m\u001b[1;33m\u001b[0m\u001b[0m\n\u001b[1;32m-> 1781\u001b[1;33m         \u001b[1;32mreturn\u001b[0m \u001b[0mnp\u001b[0m\u001b[1;33m.\u001b[0m\u001b[0masarray\u001b[0m\u001b[1;33m(\u001b[0m\u001b[0mself\u001b[0m\u001b[1;33m.\u001b[0m\u001b[0m_values\u001b[0m\u001b[1;33m,\u001b[0m \u001b[0mdtype\u001b[0m\u001b[1;33m=\u001b[0m\u001b[0mdtype\u001b[0m\u001b[1;33m)\u001b[0m\u001b[1;33m\u001b[0m\u001b[0m\n\u001b[0m\u001b[0;32m   1782\u001b[0m \u001b[1;33m\u001b[0m\u001b[0m\n\u001b[0;32m   1783\u001b[0m     \u001b[1;32mdef\u001b[0m \u001b[0m__array_wrap__\u001b[0m\u001b[1;33m(\u001b[0m\u001b[0mself\u001b[0m\u001b[1;33m,\u001b[0m \u001b[0mresult\u001b[0m\u001b[1;33m,\u001b[0m \u001b[0mcontext\u001b[0m\u001b[1;33m=\u001b[0m\u001b[1;32mNone\u001b[0m\u001b[1;33m)\u001b[0m\u001b[1;33m:\u001b[0m\u001b[1;33m\u001b[0m\u001b[0m\n",
      "\u001b[1;32mc:\\users\\admin\\appdata\\local\\programs\\python\\python37\\lib\\site-packages\\numpy\\core\\_asarray.py\u001b[0m in \u001b[0;36masarray\u001b[1;34m(a, dtype, order)\u001b[0m\n\u001b[0;32m     83\u001b[0m \u001b[1;33m\u001b[0m\u001b[0m\n\u001b[0;32m     84\u001b[0m     \"\"\"\n\u001b[1;32m---> 85\u001b[1;33m     \u001b[1;32mreturn\u001b[0m \u001b[0marray\u001b[0m\u001b[1;33m(\u001b[0m\u001b[0ma\u001b[0m\u001b[1;33m,\u001b[0m \u001b[0mdtype\u001b[0m\u001b[1;33m,\u001b[0m \u001b[0mcopy\u001b[0m\u001b[1;33m=\u001b[0m\u001b[1;32mFalse\u001b[0m\u001b[1;33m,\u001b[0m \u001b[0morder\u001b[0m\u001b[1;33m=\u001b[0m\u001b[0morder\u001b[0m\u001b[1;33m)\u001b[0m\u001b[1;33m\u001b[0m\u001b[0m\n\u001b[0m\u001b[0;32m     86\u001b[0m \u001b[1;33m\u001b[0m\u001b[0m\n\u001b[0;32m     87\u001b[0m \u001b[1;33m\u001b[0m\u001b[0m\n",
      "\u001b[1;31mValueError\u001b[0m: could not convert string to float: '01.01.2013 01:00:00.000'"
     ]
    }
   ],
   "source": [
    "sc = MinMaxScaler()\n",
    "train_sc = sc.fit_transform(train_data)\n",
    "test_sc = sc.transform(test_data)"
   ]
  },
  {
   "cell_type": "code",
   "execution_count": 37,
   "metadata": {},
   "outputs": [],
   "source": [
    "X_train = train_sc[:-1]\n",
    "y_train = train_sc[1:]\n",
    "\n",
    "X_test = test_sc[:-1]\n",
    "y_test = test_sc[1:]"
   ]
  },
  {
   "cell_type": "code",
   "execution_count": 40,
   "metadata": {},
   "outputs": [],
   "source": [
    "\n",
    "from keras.models import Sequential\n",
    "from keras.layers import Dense\n",
    "import keras.backend as K\n",
    "from keras.callbacks import EarlyStopping\n",
    "from keras.optimizers import Adam\n",
    "from keras.models import load_model"
   ]
  },
  {
   "cell_type": "code",
   "execution_count": 39,
   "metadata": {},
   "outputs": [
    {
     "ename": "IndexError",
     "evalue": "tuple index out of range",
     "output_type": "error",
     "traceback": [
      "\u001b[1;31m---------------------------------------------------------------------------\u001b[0m",
      "\u001b[1;31mIndexError\u001b[0m                                Traceback (most recent call last)",
      "\u001b[1;32m<ipython-input-39-f2d50a5fdce7>\u001b[0m in \u001b[0;36m<module>\u001b[1;34m\u001b[0m\n\u001b[1;32m----> 1\u001b[1;33m \u001b[0mX_train\u001b[0m \u001b[1;33m=\u001b[0m \u001b[0mnp\u001b[0m\u001b[1;33m.\u001b[0m\u001b[0mreshape\u001b[0m\u001b[1;33m(\u001b[0m\u001b[0mX_train\u001b[0m\u001b[1;33m,\u001b[0m \u001b[1;33m(\u001b[0m\u001b[0mX_train\u001b[0m\u001b[1;33m.\u001b[0m\u001b[0mshape\u001b[0m\u001b[1;33m[\u001b[0m\u001b[1;36m0\u001b[0m\u001b[1;33m]\u001b[0m\u001b[1;33m,\u001b[0m \u001b[0mX_train\u001b[0m\u001b[1;33m.\u001b[0m\u001b[0mshape\u001b[0m\u001b[1;33m[\u001b[0m\u001b[1;36m1\u001b[0m\u001b[1;33m]\u001b[0m\u001b[1;33m,\u001b[0m \u001b[1;36m1\u001b[0m\u001b[1;33m)\u001b[0m\u001b[1;33m)\u001b[0m\u001b[1;33m\u001b[0m\u001b[0m\n\u001b[0m",
      "\u001b[1;31mIndexError\u001b[0m: tuple index out of range"
     ]
    }
   ],
   "source": [
    "X_train = np.reshape(X_train, (X_train.shape[0], X_train.shape[1], 1))"
   ]
  },
  {
   "cell_type": "code",
   "execution_count": 51,
   "metadata": {},
   "outputs": [
    {
     "ename": "IndexError",
     "evalue": "tuple index out of range",
     "output_type": "error",
     "traceback": [
      "\u001b[1;31m---------------------------------------------------------------------------\u001b[0m",
      "\u001b[1;31mIndexError\u001b[0m                                Traceback (most recent call last)",
      "\u001b[1;32m<ipython-input-51-43b94061c176>\u001b[0m in \u001b[0;36m<module>\u001b[1;34m\u001b[0m\n\u001b[0;32m      2\u001b[0m \u001b[1;31m# LSTM\u001b[0m\u001b[1;33m\u001b[0m\u001b[1;33m\u001b[0m\u001b[0m\n\u001b[0;32m      3\u001b[0m \u001b[1;31m#\u001b[0m\u001b[1;33m\u001b[0m\u001b[1;33m\u001b[0m\u001b[0m\n\u001b[1;32m----> 4\u001b[1;33m \u001b[0mdim_entrada\u001b[0m \u001b[1;33m=\u001b[0m \u001b[1;33m(\u001b[0m\u001b[0mX_train\u001b[0m\u001b[1;33m.\u001b[0m\u001b[0mshape\u001b[0m\u001b[1;33m[\u001b[0m\u001b[1;36m1\u001b[0m\u001b[1;33m]\u001b[0m\u001b[1;33m,\u001b[0m\u001b[1;36m1\u001b[0m\u001b[1;33m)\u001b[0m\u001b[1;33m\u001b[0m\u001b[0m\n\u001b[0m\u001b[0;32m      5\u001b[0m \u001b[0mdim_salida\u001b[0m \u001b[1;33m=\u001b[0m \u001b[1;36m1\u001b[0m\u001b[1;33m\u001b[0m\u001b[0m\n\u001b[0;32m      6\u001b[0m \u001b[0mna\u001b[0m \u001b[1;33m=\u001b[0m \u001b[1;36m50\u001b[0m\u001b[1;33m\u001b[0m\u001b[0m\n",
      "\u001b[1;31mIndexError\u001b[0m: tuple index out of range"
     ]
    }
   ],
   "source": [
    " \n",
    "#\n",
    "# LSTM\n",
    "#\n",
    "dim_entrada = (X_train.shape[1],1)\n",
    "dim_salida = 1\n",
    "na = 50\n",
    " \n",
    "modelo = Sequential()\n",
    "modelo.add(LSTM(units=na, input_shape=dim_entrada))\n",
    "modelo.add(Dense(units=dim_salida))\n",
    "modelo.compile(optimizer='rmsprop', loss='mse')\n",
    "modelo.fit(X_train,Y_train,epochs=20,batch_size=32)"
   ]
  },
  {
   "cell_type": "code",
   "execution_count": 52,
   "metadata": {},
   "outputs": [],
   "source": [
    "testRate = test.drop(['Volume', \"Open\", \"High\", \"Low\"], axis=1)"
   ]
  },
  {
   "cell_type": "code",
   "execution_count": 53,
   "metadata": {},
   "outputs": [
    {
     "data": {
      "text/html": [
       "<div>\n",
       "<style scoped>\n",
       "    .dataframe tbody tr th:only-of-type {\n",
       "        vertical-align: middle;\n",
       "    }\n",
       "\n",
       "    .dataframe tbody tr th {\n",
       "        vertical-align: top;\n",
       "    }\n",
       "\n",
       "    .dataframe thead th {\n",
       "        text-align: right;\n",
       "    }\n",
       "</style>\n",
       "<table border=\"1\" class=\"dataframe\">\n",
       "  <thead>\n",
       "    <tr style=\"text-align: right;\">\n",
       "      <th></th>\n",
       "      <th>Time</th>\n",
       "      <th>Close</th>\n",
       "    </tr>\n",
       "  </thead>\n",
       "  <tbody>\n",
       "    <tr>\n",
       "      <th>0</th>\n",
       "      <td>03.06.2013 00:00:00.000</td>\n",
       "      <td>1.29904</td>\n",
       "    </tr>\n",
       "    <tr>\n",
       "      <th>1</th>\n",
       "      <td>03.06.2013 00:15:00.000</td>\n",
       "      <td>1.29964</td>\n",
       "    </tr>\n",
       "    <tr>\n",
       "      <th>2</th>\n",
       "      <td>03.06.2013 00:30:00.000</td>\n",
       "      <td>1.29977</td>\n",
       "    </tr>\n",
       "    <tr>\n",
       "      <th>3</th>\n",
       "      <td>03.06.2013 00:45:00.000</td>\n",
       "      <td>1.30043</td>\n",
       "    </tr>\n",
       "    <tr>\n",
       "      <th>4</th>\n",
       "      <td>03.06.2013 01:00:00.000</td>\n",
       "      <td>1.29978</td>\n",
       "    </tr>\n",
       "  </tbody>\n",
       "</table>\n",
       "</div>"
      ],
      "text/plain": [
       "                      Time    Close\n",
       "0  03.06.2013 00:00:00.000  1.29904\n",
       "1  03.06.2013 00:15:00.000  1.29964\n",
       "2  03.06.2013 00:30:00.000  1.29977\n",
       "3  03.06.2013 00:45:00.000  1.30043\n",
       "4  03.06.2013 01:00:00.000  1.29978"
      ]
     },
     "execution_count": 53,
     "metadata": {},
     "output_type": "execute_result"
    }
   ],
   "source": [
    "testRate.head()"
   ]
  },
  {
   "cell_type": "code",
   "execution_count": 10,
   "metadata": {},
   "outputs": [],
   "source": [
    "for label, content in testRate.items():\n",
    "    testRate['Temp'] = testRate['Time'].astype('string')"
   ]
  },
  {
   "cell_type": "code",
   "execution_count": 11,
   "metadata": {},
   "outputs": [],
   "source": [
    "testRate['Dates'] = testRate['Temp'].str.split(' ').str[0]"
   ]
  },
  {
   "cell_type": "code",
   "execution_count": 12,
   "metadata": {},
   "outputs": [
    {
     "name": "stdout",
     "output_type": "stream",
     "text": [
      "<class 'pandas.core.frame.DataFrame'>\n",
      "Int64Index: 50 entries, 0 to 49\n",
      "Data columns (total 7 columns):\n",
      " #   Column  Non-Null Count  Dtype  \n",
      "---  ------  --------------  -----  \n",
      " 0   Time    50 non-null     object \n",
      " 1   Open    50 non-null     float64\n",
      " 2   High    50 non-null     float64\n",
      " 3   Low     50 non-null     float64\n",
      " 4   Close   50 non-null     float64\n",
      " 5   Temp    50 non-null     string \n",
      " 6   Dates   50 non-null     object \n",
      "dtypes: float64(4), object(2), string(1)\n",
      "memory usage: 3.1+ KB\n"
     ]
    }
   ],
   "source": [
    "testRate.info()"
   ]
  },
  {
   "cell_type": "code",
   "execution_count": 75,
   "metadata": {},
   "outputs": [
    {
     "data": {
      "text/plain": [
       "0     03.06.2013\n",
       "1     03.06.2013\n",
       "2     03.06.2013\n",
       "3     03.06.2013\n",
       "4     03.06.2013\n",
       "5     03.06.2013\n",
       "6     03.06.2013\n",
       "7     03.06.2013\n",
       "8     03.06.2013\n",
       "9     03.06.2013\n",
       "10    03.06.2013\n",
       "11    03.06.2013\n",
       "12    03.06.2013\n",
       "13    03.06.2013\n",
       "14    03.06.2013\n",
       "15    03.06.2013\n",
       "16    03.06.2013\n",
       "17    03.06.2013\n",
       "18    03.06.2013\n",
       "19    03.06.2013\n",
       "20    03.06.2013\n",
       "21    03.06.2013\n",
       "22    03.06.2013\n",
       "23    03.06.2013\n",
       "24    03.06.2013\n",
       "25    03.06.2013\n",
       "26    03.06.2013\n",
       "27    03.06.2013\n",
       "28    03.06.2013\n",
       "29    03.06.2013\n",
       "30    03.06.2013\n",
       "31    03.06.2013\n",
       "32    03.06.2013\n",
       "33    03.06.2013\n",
       "34    03.06.2013\n",
       "35    03.06.2013\n",
       "36    03.06.2013\n",
       "37    03.06.2013\n",
       "38    03.06.2013\n",
       "39    03.06.2013\n",
       "40    03.06.2013\n",
       "41    03.06.2013\n",
       "42    03.06.2013\n",
       "43    03.06.2013\n",
       "44    03.06.2013\n",
       "45    03.06.2013\n",
       "46    03.06.2013\n",
       "47    03.06.2013\n",
       "48    03.06.2013\n",
       "49    03.06.2013\n",
       "Name: Dates, dtype: string"
      ]
     },
     "execution_count": 75,
     "metadata": {},
     "output_type": "execute_result"
    }
   ],
   "source": [
    "testRate['Dates'] = testRate['Dates'].astype('string')\n",
    "testRate['Dates']"
   ]
  },
  {
   "cell_type": "code",
   "execution_count": 22,
   "metadata": {},
   "outputs": [
    {
     "data": {
      "text/plain": [
       "0    2013-02-19\n",
       "1    2013-02-19\n",
       "2    2013-02-19\n",
       "3    2013-02-19\n",
       "4    2013-02-19\n",
       "5    2013-02-19\n",
       "6    2013-02-19\n",
       "7    2013-02-19\n",
       "8    2013-02-19\n",
       "9    2013-02-19\n",
       "10   2013-02-19\n",
       "11   2013-02-19\n",
       "12   2013-02-19\n",
       "13   2013-02-19\n",
       "14   2013-02-19\n",
       "15   2013-02-19\n",
       "16   2013-02-19\n",
       "17   2013-02-19\n",
       "18   2013-02-19\n",
       "19   2013-02-19\n",
       "20   2013-02-19\n",
       "21   2013-02-19\n",
       "22   2013-02-19\n",
       "23   2013-02-19\n",
       "24   2013-02-19\n",
       "25   2013-02-19\n",
       "26   2013-02-19\n",
       "27   2013-02-19\n",
       "28   2013-02-19\n",
       "29   2013-02-19\n",
       "30   2013-02-19\n",
       "31   2013-02-19\n",
       "32   2013-02-19\n",
       "33   2013-02-19\n",
       "34   2013-02-19\n",
       "35   2013-02-19\n",
       "36   2013-02-19\n",
       "37   2013-02-19\n",
       "38   2013-02-19\n",
       "39   2013-02-19\n",
       "40   2013-02-19\n",
       "41   2013-02-19\n",
       "42   2013-02-19\n",
       "43   2013-02-19\n",
       "44   2013-02-19\n",
       "45   2013-02-19\n",
       "46   2013-02-19\n",
       "47   2013-02-19\n",
       "48   2013-02-19\n",
       "49   2013-02-19\n",
       "Name: Dates, dtype: datetime64[ns]"
      ]
     },
     "execution_count": 22,
     "metadata": {},
     "output_type": "execute_result"
    }
   ],
   "source": [
    "import datetime\n",
    "for x in testRate['Dates']:\n",
    "    x = datetime.datetime.strptime(x, '%Y-%m-%d')\n",
    "    \n",
    "testRate['Dates'] = x\n",
    "testRate['Dates']\n",
    "# testRate['Dates'] = datetime.datetime.strptime(testRate['Dates'], '%Y/%m-%d')"
   ]
  },
  {
   "cell_type": "code",
   "execution_count": 14,
   "metadata": {},
   "outputs": [
    {
     "data": {
      "text/plain": [
       "0     [03, 06, 2013]\n",
       "1     [03, 06, 2013]\n",
       "2     [03, 06, 2013]\n",
       "3     [03, 06, 2013]\n",
       "4     [03, 06, 2013]\n",
       "5     [03, 06, 2013]\n",
       "6     [03, 06, 2013]\n",
       "7     [03, 06, 2013]\n",
       "8     [03, 06, 2013]\n",
       "9     [03, 06, 2013]\n",
       "10    [03, 06, 2013]\n",
       "11    [03, 06, 2013]\n",
       "12    [03, 06, 2013]\n",
       "13    [03, 06, 2013]\n",
       "14    [03, 06, 2013]\n",
       "15    [03, 06, 2013]\n",
       "16    [03, 06, 2013]\n",
       "17    [03, 06, 2013]\n",
       "18    [03, 06, 2013]\n",
       "19    [03, 06, 2013]\n",
       "20    [03, 06, 2013]\n",
       "21    [03, 06, 2013]\n",
       "22    [03, 06, 2013]\n",
       "23    [03, 06, 2013]\n",
       "24    [03, 06, 2013]\n",
       "25    [03, 06, 2013]\n",
       "26    [03, 06, 2013]\n",
       "27    [03, 06, 2013]\n",
       "28    [03, 06, 2013]\n",
       "29    [03, 06, 2013]\n",
       "30    [03, 06, 2013]\n",
       "31    [03, 06, 2013]\n",
       "32    [03, 06, 2013]\n",
       "33    [03, 06, 2013]\n",
       "34    [03, 06, 2013]\n",
       "35    [03, 06, 2013]\n",
       "36    [03, 06, 2013]\n",
       "37    [03, 06, 2013]\n",
       "38    [03, 06, 2013]\n",
       "39    [03, 06, 2013]\n",
       "40    [03, 06, 2013]\n",
       "41    [03, 06, 2013]\n",
       "42    [03, 06, 2013]\n",
       "43    [03, 06, 2013]\n",
       "44    [03, 06, 2013]\n",
       "45    [03, 06, 2013]\n",
       "46    [03, 06, 2013]\n",
       "47    [03, 06, 2013]\n",
       "48    [03, 06, 2013]\n",
       "49    [03, 06, 2013]\n",
       "Name: Dates, dtype: object"
      ]
     },
     "execution_count": 14,
     "metadata": {},
     "output_type": "execute_result"
    }
   ],
   "source": [
    "testRate['Dates'].str.split('.')"
   ]
  },
  {
   "cell_type": "code",
   "execution_count": 15,
   "metadata": {},
   "outputs": [],
   "source": [
    "testRate['Day'] = testRate['Dates'].str.split('.').str[0]\n",
    "testRate['Month'] = testRate['Dates'].str.split('.').str[1]\n",
    "testRate['Year'] = testRate['Dates'].str.split('.').str[2]"
   ]
  },
  {
   "cell_type": "code",
   "execution_count": 84,
   "metadata": {},
   "outputs": [
    {
     "data": {
      "text/html": [
       "<div>\n",
       "<style scoped>\n",
       "    .dataframe tbody tr th:only-of-type {\n",
       "        vertical-align: middle;\n",
       "    }\n",
       "\n",
       "    .dataframe tbody tr th {\n",
       "        vertical-align: top;\n",
       "    }\n",
       "\n",
       "    .dataframe thead th {\n",
       "        text-align: right;\n",
       "    }\n",
       "</style>\n",
       "<table border=\"1\" class=\"dataframe\">\n",
       "  <thead>\n",
       "    <tr style=\"text-align: right;\">\n",
       "      <th></th>\n",
       "      <th>Time</th>\n",
       "      <th>Close</th>\n",
       "      <th>Temp</th>\n",
       "      <th>Dates</th>\n",
       "      <th>Day</th>\n",
       "      <th>Month</th>\n",
       "      <th>Year</th>\n",
       "    </tr>\n",
       "  </thead>\n",
       "  <tbody>\n",
       "    <tr>\n",
       "      <th>0</th>\n",
       "      <td>03.06.2013 00:00:00.000</td>\n",
       "      <td>1.29904</td>\n",
       "      <td>03.06.2013 00:00:00.000</td>\n",
       "      <td>03.06.2013</td>\n",
       "      <td>03</td>\n",
       "      <td>06</td>\n",
       "      <td>2013</td>\n",
       "    </tr>\n",
       "    <tr>\n",
       "      <th>1</th>\n",
       "      <td>03.06.2013 00:15:00.000</td>\n",
       "      <td>1.29964</td>\n",
       "      <td>03.06.2013 00:15:00.000</td>\n",
       "      <td>03.06.2013</td>\n",
       "      <td>03</td>\n",
       "      <td>06</td>\n",
       "      <td>2013</td>\n",
       "    </tr>\n",
       "    <tr>\n",
       "      <th>2</th>\n",
       "      <td>03.06.2013 00:30:00.000</td>\n",
       "      <td>1.29977</td>\n",
       "      <td>03.06.2013 00:30:00.000</td>\n",
       "      <td>03.06.2013</td>\n",
       "      <td>03</td>\n",
       "      <td>06</td>\n",
       "      <td>2013</td>\n",
       "    </tr>\n",
       "    <tr>\n",
       "      <th>3</th>\n",
       "      <td>03.06.2013 00:45:00.000</td>\n",
       "      <td>1.30043</td>\n",
       "      <td>03.06.2013 00:45:00.000</td>\n",
       "      <td>03.06.2013</td>\n",
       "      <td>03</td>\n",
       "      <td>06</td>\n",
       "      <td>2013</td>\n",
       "    </tr>\n",
       "    <tr>\n",
       "      <th>4</th>\n",
       "      <td>03.06.2013 01:00:00.000</td>\n",
       "      <td>1.29978</td>\n",
       "      <td>03.06.2013 01:00:00.000</td>\n",
       "      <td>03.06.2013</td>\n",
       "      <td>03</td>\n",
       "      <td>06</td>\n",
       "      <td>2013</td>\n",
       "    </tr>\n",
       "  </tbody>\n",
       "</table>\n",
       "</div>"
      ],
      "text/plain": [
       "                      Time    Close                     Temp       Dates Day  \\\n",
       "0  03.06.2013 00:00:00.000  1.29904  03.06.2013 00:00:00.000  03.06.2013  03   \n",
       "1  03.06.2013 00:15:00.000  1.29964  03.06.2013 00:15:00.000  03.06.2013  03   \n",
       "2  03.06.2013 00:30:00.000  1.29977  03.06.2013 00:30:00.000  03.06.2013  03   \n",
       "3  03.06.2013 00:45:00.000  1.30043  03.06.2013 00:45:00.000  03.06.2013  03   \n",
       "4  03.06.2013 01:00:00.000  1.29978  03.06.2013 01:00:00.000  03.06.2013  03   \n",
       "\n",
       "  Month  Year  \n",
       "0    06  2013  \n",
       "1    06  2013  \n",
       "2    06  2013  \n",
       "3    06  2013  \n",
       "4    06  2013  "
      ]
     },
     "execution_count": 84,
     "metadata": {},
     "output_type": "execute_result"
    }
   ],
   "source": [
    "testRate.head()"
   ]
  },
  {
   "cell_type": "code",
   "execution_count": 11,
   "metadata": {},
   "outputs": [],
   "source": [
    "for label, content in testRate.items():\n",
    "    testRate['Dates'] = testRate['Year'].astype('string') + '-' + testRate['Month'].astype('string') + '-' + testRate['Day'].astype('string')   "
   ]
  },
  {
   "cell_type": "code",
   "execution_count": 19,
   "metadata": {},
   "outputs": [
    {
     "data": {
      "text/plain": [
       "0      2013-1-1\n",
       "1      2013-1-2\n",
       "2      2013-1-3\n",
       "3      2013-1-4\n",
       "4      2013-1-5\n",
       "5      2013-1-6\n",
       "6      2013-1-7\n",
       "7      2013-1-8\n",
       "8      2013-1-9\n",
       "9     2013-1-10\n",
       "10    2013-1-11\n",
       "11    2013-1-12\n",
       "12    2013-1-13\n",
       "13    2013-1-14\n",
       "14    2013-1-15\n",
       "15    2013-1-16\n",
       "16    2013-1-17\n",
       "17    2013-1-18\n",
       "18    2013-1-19\n",
       "19    2013-1-20\n",
       "20    2013-1-21\n",
       "21    2013-1-22\n",
       "22    2013-1-23\n",
       "23    2013-1-24\n",
       "24    2013-1-25\n",
       "25    2013-1-26\n",
       "26    2013-1-27\n",
       "27    2013-1-28\n",
       "28    2013-1-29\n",
       "29    2013-1-30\n",
       "30    2013-1-31\n",
       "31     2013-2-1\n",
       "32     2013-2-2\n",
       "33     2013-2-3\n",
       "34     2013-2-4\n",
       "35     2013-2-5\n",
       "36     2013-2-6\n",
       "37     2013-2-7\n",
       "38     2013-2-8\n",
       "39     2013-2-9\n",
       "40    2013-2-10\n",
       "41    2013-2-11\n",
       "42    2013-2-12\n",
       "43    2013-2-13\n",
       "44    2013-2-14\n",
       "45    2013-2-15\n",
       "46    2013-2-16\n",
       "47    2013-2-17\n",
       "48    2013-2-18\n",
       "49    2013-2-19\n",
       "Name: Dates, dtype: string"
      ]
     },
     "execution_count": 19,
     "metadata": {},
     "output_type": "execute_result"
    }
   ],
   "source": [
    "testRate['Dates']"
   ]
  },
  {
   "cell_type": "code",
   "execution_count": 20,
   "metadata": {},
   "outputs": [
    {
     "name": "stdout",
     "output_type": "stream",
     "text": [
      "<class 'pandas.core.frame.DataFrame'>\n",
      "Int64Index: 50 entries, 0 to 49\n",
      "Data columns (total 11 columns):\n",
      " #   Column  Non-Null Count  Dtype         \n",
      "---  ------  --------------  -----         \n",
      " 0   Time    50 non-null     object        \n",
      " 1   Open    50 non-null     float64       \n",
      " 2   High    50 non-null     float64       \n",
      " 3   Low     50 non-null     float64       \n",
      " 4   Close   50 non-null     float64       \n",
      " 5   Temp    50 non-null     string        \n",
      " 6   Dates   50 non-null     string        \n",
      " 7   Day     50 non-null     object        \n",
      " 8   Month   50 non-null     object        \n",
      " 9   Year    50 non-null     object        \n",
      " 10  Dates1  50 non-null     datetime64[ns]\n",
      "dtypes: datetime64[ns](1), float64(4), object(4), string(2)\n",
      "memory usage: 4.7+ KB\n"
     ]
    }
   ],
   "source": [
    "testRate.info()"
   ]
  },
  {
   "cell_type": "code",
   "execution_count": 21,
   "metadata": {},
   "outputs": [],
   "source": [
    "testRate = testRate.drop(\"Year\", axis=1)\n",
    "testRate = testRate.drop(\"Month\", axis=1)\n",
    "testRate = testRate.drop(\"Day\", axis=1)\n",
    "testRate = testRate.drop(\"Dates\", axis=1)\n",
    "testRate = testRate.drop(\"Temp\", axis=1)"
   ]
  },
  {
   "cell_type": "code",
   "execution_count": 45,
   "metadata": {},
   "outputs": [
    {
     "data": {
      "text/html": [
       "<div>\n",
       "<style scoped>\n",
       "    .dataframe tbody tr th:only-of-type {\n",
       "        vertical-align: middle;\n",
       "    }\n",
       "\n",
       "    .dataframe tbody tr th {\n",
       "        vertical-align: top;\n",
       "    }\n",
       "\n",
       "    .dataframe thead th {\n",
       "        text-align: right;\n",
       "    }\n",
       "</style>\n",
       "<table border=\"1\" class=\"dataframe\">\n",
       "  <thead>\n",
       "    <tr style=\"text-align: right;\">\n",
       "      <th></th>\n",
       "      <th>Open</th>\n",
       "      <th>High</th>\n",
       "      <th>Low</th>\n",
       "      <th>Close</th>\n",
       "      <th>Dates1</th>\n",
       "    </tr>\n",
       "  </thead>\n",
       "  <tbody>\n",
       "    <tr>\n",
       "      <th>0</th>\n",
       "      <td>1.29944</td>\n",
       "      <td>1.29955</td>\n",
       "      <td>1.29870</td>\n",
       "      <td>1.29904</td>\n",
       "      <td>2018-01-01</td>\n",
       "    </tr>\n",
       "    <tr>\n",
       "      <th>1</th>\n",
       "      <td>1.29904</td>\n",
       "      <td>1.29964</td>\n",
       "      <td>1.29904</td>\n",
       "      <td>1.29964</td>\n",
       "      <td>2018-01-01</td>\n",
       "    </tr>\n",
       "    <tr>\n",
       "      <th>2</th>\n",
       "      <td>1.29964</td>\n",
       "      <td>1.30015</td>\n",
       "      <td>1.29960</td>\n",
       "      <td>1.29977</td>\n",
       "      <td>2018-01-01</td>\n",
       "    </tr>\n",
       "    <tr>\n",
       "      <th>3</th>\n",
       "      <td>1.29977</td>\n",
       "      <td>1.30065</td>\n",
       "      <td>1.29972</td>\n",
       "      <td>1.30043</td>\n",
       "      <td>2018-01-01</td>\n",
       "    </tr>\n",
       "    <tr>\n",
       "      <th>4</th>\n",
       "      <td>1.30043</td>\n",
       "      <td>1.30043</td>\n",
       "      <td>1.29911</td>\n",
       "      <td>1.29978</td>\n",
       "      <td>2018-01-01</td>\n",
       "    </tr>\n",
       "  </tbody>\n",
       "</table>\n",
       "</div>"
      ],
      "text/plain": [
       "      Open     High      Low    Close     Dates1\n",
       "0  1.29944  1.29955  1.29870  1.29904 2018-01-01\n",
       "1  1.29904  1.29964  1.29904  1.29964 2018-01-01\n",
       "2  1.29964  1.30015  1.29960  1.29977 2018-01-01\n",
       "3  1.29977  1.30065  1.29972  1.30043 2018-01-01\n",
       "4  1.30043  1.30043  1.29911  1.29978 2018-01-01"
      ]
     },
     "execution_count": 45,
     "metadata": {},
     "output_type": "execute_result"
    }
   ],
   "source": [
    "testRate.head()"
   ]
  },
  {
   "cell_type": "code",
   "execution_count": 23,
   "metadata": {},
   "outputs": [],
   "source": [
    "testRate = testRate.drop(\"Time\", axis=1)"
   ]
  },
  {
   "cell_type": "code",
   "execution_count": 43,
   "metadata": {},
   "outputs": [],
   "source": [
    "testRate['Dates1'] = pd.Timestamp('2018-01-01')"
   ]
  },
  {
   "cell_type": "code",
   "execution_count": 44,
   "metadata": {},
   "outputs": [
    {
     "ename": "TypeError",
     "evalue": "'0    2018-01-01\n1    2018-01-01\n2    2018-01-01\n3    2018-01-01\n4    2018-01-01\n5    2018-01-01\n6    2018-01-01\n7    2018-01-01\n8    2018-01-01\n9    2018-01-01\n10   2018-01-01\n11   2018-01-01\n12   2018-01-01\n13   2018-01-01\n14   2018-01-01\n15   2018-01-01\n16   2018-01-01\n17   2018-01-01\n18   2018-01-01\n19   2018-01-01\n20   2018-01-01\n21   2018-01-01\n22   2018-01-01\n23   2018-01-01\n24   2018-01-01\n25   2018-01-01\n26   2018-01-01\n27   2018-01-01\n28   2018-01-01\n29   2018-01-01\n30   2018-01-01\n31   2018-01-01\n32   2018-01-01\n33   2018-01-01\n34   2018-01-01\n35   2018-01-01\n36   2018-01-01\n37   2018-01-01\n38   2018-01-01\n39   2018-01-01\n40   2018-01-01\n41   2018-01-01\n42   2018-01-01\n43   2018-01-01\n44   2018-01-01\n45   2018-01-01\n46   2018-01-01\n47   2018-01-01\n48   2018-01-01\n49   2018-01-01\nName: Dates1, dtype: datetime64[ns]' is an invalid key",
     "output_type": "error",
     "traceback": [
      "\u001b[1;31m---------------------------------------------------------------------------\u001b[0m",
      "\u001b[1;31mTypeError\u001b[0m                                 Traceback (most recent call last)",
      "\u001b[1;32m<ipython-input-44-c7237281a170>\u001b[0m in \u001b[0;36m<module>\u001b[1;34m\u001b[0m\n\u001b[1;32m----> 1\u001b[1;33m \u001b[0mtrain\u001b[0m \u001b[1;33m=\u001b[0m \u001b[0mtestRate\u001b[0m\u001b[1;33m.\u001b[0m\u001b[0mloc\u001b[0m\u001b[1;33m[\u001b[0m\u001b[1;33m:\u001b[0m\u001b[0mtestRate\u001b[0m\u001b[1;33m[\u001b[0m\u001b[1;34m'Dates1'\u001b[0m\u001b[1;33m]\u001b[0m\u001b[1;33m]\u001b[0m\u001b[1;33m\u001b[0m\u001b[0m\n\u001b[0m\u001b[0;32m      2\u001b[0m \u001b[0mtest\u001b[0m \u001b[1;33m=\u001b[0m \u001b[0mtestRate\u001b[0m\u001b[1;33m.\u001b[0m\u001b[0mloc\u001b[0m\u001b[1;33m[\u001b[0m\u001b[0mtestRate\u001b[0m\u001b[1;33m[\u001b[0m\u001b[1;34m'Dates1'\u001b[0m\u001b[1;33m]\u001b[0m\u001b[1;33m:\u001b[0m\u001b[1;33m]\u001b[0m\u001b[1;33m\u001b[0m\u001b[0m\n\u001b[0;32m      3\u001b[0m \u001b[1;33m\u001b[0m\u001b[0m\n\u001b[0;32m      4\u001b[0m \u001b[0max\u001b[0m \u001b[1;33m=\u001b[0m \u001b[0mtrain\u001b[0m\u001b[1;33m.\u001b[0m\u001b[0mplot\u001b[0m\u001b[1;33m(\u001b[0m\u001b[1;33m)\u001b[0m\u001b[1;33m\u001b[0m\u001b[0m\n\u001b[0;32m      5\u001b[0m \u001b[0mtest\u001b[0m\u001b[1;33m.\u001b[0m\u001b[0mplot\u001b[0m\u001b[1;33m(\u001b[0m\u001b[0max\u001b[0m\u001b[1;33m=\u001b[0m\u001b[0max\u001b[0m\u001b[1;33m)\u001b[0m\u001b[1;33m\u001b[0m\u001b[0m\n",
      "\u001b[1;32mc:\\users\\admin\\appdata\\local\\programs\\python\\python37\\lib\\site-packages\\pandas\\core\\indexing.py\u001b[0m in \u001b[0;36m__getitem__\u001b[1;34m(self, key)\u001b[0m\n\u001b[0;32m    877\u001b[0m \u001b[1;33m\u001b[0m\u001b[0m\n\u001b[0;32m    878\u001b[0m             \u001b[0mmaybe_callable\u001b[0m \u001b[1;33m=\u001b[0m \u001b[0mcom\u001b[0m\u001b[1;33m.\u001b[0m\u001b[0mapply_if_callable\u001b[0m\u001b[1;33m(\u001b[0m\u001b[0mkey\u001b[0m\u001b[1;33m,\u001b[0m \u001b[0mself\u001b[0m\u001b[1;33m.\u001b[0m\u001b[0mobj\u001b[0m\u001b[1;33m)\u001b[0m\u001b[1;33m\u001b[0m\u001b[0m\n\u001b[1;32m--> 879\u001b[1;33m             \u001b[1;32mreturn\u001b[0m \u001b[0mself\u001b[0m\u001b[1;33m.\u001b[0m\u001b[0m_getitem_axis\u001b[0m\u001b[1;33m(\u001b[0m\u001b[0mmaybe_callable\u001b[0m\u001b[1;33m,\u001b[0m \u001b[0maxis\u001b[0m\u001b[1;33m=\u001b[0m\u001b[0maxis\u001b[0m\u001b[1;33m)\u001b[0m\u001b[1;33m\u001b[0m\u001b[0m\n\u001b[0m\u001b[0;32m    880\u001b[0m \u001b[1;33m\u001b[0m\u001b[0m\n\u001b[0;32m    881\u001b[0m     \u001b[1;32mdef\u001b[0m \u001b[0m_is_scalar_access\u001b[0m\u001b[1;33m(\u001b[0m\u001b[0mself\u001b[0m\u001b[1;33m,\u001b[0m \u001b[0mkey\u001b[0m\u001b[1;33m:\u001b[0m \u001b[0mTuple\u001b[0m\u001b[1;33m)\u001b[0m\u001b[1;33m:\u001b[0m\u001b[1;33m\u001b[0m\u001b[0m\n",
      "\u001b[1;32mc:\\users\\admin\\appdata\\local\\programs\\python\\python37\\lib\\site-packages\\pandas\\core\\indexing.py\u001b[0m in \u001b[0;36m_getitem_axis\u001b[1;34m(self, key, axis)\u001b[0m\n\u001b[0;32m   1086\u001b[0m         \u001b[1;32mif\u001b[0m \u001b[0misinstance\u001b[0m\u001b[1;33m(\u001b[0m\u001b[0mkey\u001b[0m\u001b[1;33m,\u001b[0m \u001b[0mslice\u001b[0m\u001b[1;33m)\u001b[0m\u001b[1;33m:\u001b[0m\u001b[1;33m\u001b[0m\u001b[0m\n\u001b[0;32m   1087\u001b[0m             \u001b[0mself\u001b[0m\u001b[1;33m.\u001b[0m\u001b[0m_validate_key\u001b[0m\u001b[1;33m(\u001b[0m\u001b[0mkey\u001b[0m\u001b[1;33m,\u001b[0m \u001b[0maxis\u001b[0m\u001b[1;33m)\u001b[0m\u001b[1;33m\u001b[0m\u001b[0m\n\u001b[1;32m-> 1088\u001b[1;33m             \u001b[1;32mreturn\u001b[0m \u001b[0mself\u001b[0m\u001b[1;33m.\u001b[0m\u001b[0m_get_slice_axis\u001b[0m\u001b[1;33m(\u001b[0m\u001b[0mkey\u001b[0m\u001b[1;33m,\u001b[0m \u001b[0maxis\u001b[0m\u001b[1;33m=\u001b[0m\u001b[0maxis\u001b[0m\u001b[1;33m)\u001b[0m\u001b[1;33m\u001b[0m\u001b[0m\n\u001b[0m\u001b[0;32m   1089\u001b[0m         \u001b[1;32melif\u001b[0m \u001b[0mcom\u001b[0m\u001b[1;33m.\u001b[0m\u001b[0mis_bool_indexer\u001b[0m\u001b[1;33m(\u001b[0m\u001b[0mkey\u001b[0m\u001b[1;33m)\u001b[0m\u001b[1;33m:\u001b[0m\u001b[1;33m\u001b[0m\u001b[0m\n\u001b[0;32m   1090\u001b[0m             \u001b[1;32mreturn\u001b[0m \u001b[0mself\u001b[0m\u001b[1;33m.\u001b[0m\u001b[0m_getbool_axis\u001b[0m\u001b[1;33m(\u001b[0m\u001b[0mkey\u001b[0m\u001b[1;33m,\u001b[0m \u001b[0maxis\u001b[0m\u001b[1;33m=\u001b[0m\u001b[0maxis\u001b[0m\u001b[1;33m)\u001b[0m\u001b[1;33m\u001b[0m\u001b[0m\n",
      "\u001b[1;32mc:\\users\\admin\\appdata\\local\\programs\\python\\python37\\lib\\site-packages\\pandas\\core\\indexing.py\u001b[0m in \u001b[0;36m_get_slice_axis\u001b[1;34m(self, slice_obj, axis)\u001b[0m\n\u001b[0;32m   1121\u001b[0m         \u001b[0mlabels\u001b[0m \u001b[1;33m=\u001b[0m \u001b[0mobj\u001b[0m\u001b[1;33m.\u001b[0m\u001b[0m_get_axis\u001b[0m\u001b[1;33m(\u001b[0m\u001b[0maxis\u001b[0m\u001b[1;33m)\u001b[0m\u001b[1;33m\u001b[0m\u001b[0m\n\u001b[0;32m   1122\u001b[0m         indexer = labels.slice_indexer(\n\u001b[1;32m-> 1123\u001b[1;33m             \u001b[0mslice_obj\u001b[0m\u001b[1;33m.\u001b[0m\u001b[0mstart\u001b[0m\u001b[1;33m,\u001b[0m \u001b[0mslice_obj\u001b[0m\u001b[1;33m.\u001b[0m\u001b[0mstop\u001b[0m\u001b[1;33m,\u001b[0m \u001b[0mslice_obj\u001b[0m\u001b[1;33m.\u001b[0m\u001b[0mstep\u001b[0m\u001b[1;33m,\u001b[0m \u001b[0mkind\u001b[0m\u001b[1;33m=\u001b[0m\u001b[1;34m\"loc\"\u001b[0m\u001b[1;33m\u001b[0m\u001b[0m\n\u001b[0m\u001b[0;32m   1124\u001b[0m         )\n\u001b[0;32m   1125\u001b[0m \u001b[1;33m\u001b[0m\u001b[0m\n",
      "\u001b[1;32mc:\\users\\admin\\appdata\\local\\programs\\python\\python37\\lib\\site-packages\\pandas\\core\\indexes\\base.py\u001b[0m in \u001b[0;36mslice_indexer\u001b[1;34m(self, start, end, step, kind)\u001b[0m\n\u001b[0;32m   4964\u001b[0m         \u001b[0mslice\u001b[0m\u001b[1;33m(\u001b[0m\u001b[1;36m1\u001b[0m\u001b[1;33m,\u001b[0m \u001b[1;36m3\u001b[0m\u001b[1;33m,\u001b[0m \u001b[1;32mNone\u001b[0m\u001b[1;33m)\u001b[0m\u001b[1;33m\u001b[0m\u001b[0m\n\u001b[0;32m   4965\u001b[0m         \"\"\"\n\u001b[1;32m-> 4966\u001b[1;33m         \u001b[0mstart_slice\u001b[0m\u001b[1;33m,\u001b[0m \u001b[0mend_slice\u001b[0m \u001b[1;33m=\u001b[0m \u001b[0mself\u001b[0m\u001b[1;33m.\u001b[0m\u001b[0mslice_locs\u001b[0m\u001b[1;33m(\u001b[0m\u001b[0mstart\u001b[0m\u001b[1;33m,\u001b[0m \u001b[0mend\u001b[0m\u001b[1;33m,\u001b[0m \u001b[0mstep\u001b[0m\u001b[1;33m=\u001b[0m\u001b[0mstep\u001b[0m\u001b[1;33m,\u001b[0m \u001b[0mkind\u001b[0m\u001b[1;33m=\u001b[0m\u001b[0mkind\u001b[0m\u001b[1;33m)\u001b[0m\u001b[1;33m\u001b[0m\u001b[0m\n\u001b[0m\u001b[0;32m   4967\u001b[0m \u001b[1;33m\u001b[0m\u001b[0m\n\u001b[0;32m   4968\u001b[0m         \u001b[1;31m# return a slice\u001b[0m\u001b[1;33m\u001b[0m\u001b[1;33m\u001b[0m\u001b[0m\n",
      "\u001b[1;32mc:\\users\\admin\\appdata\\local\\programs\\python\\python37\\lib\\site-packages\\pandas\\core\\indexes\\base.py\u001b[0m in \u001b[0;36mslice_locs\u001b[1;34m(self, start, end, step, kind)\u001b[0m\n\u001b[0;32m   5171\u001b[0m         \u001b[0mend_slice\u001b[0m \u001b[1;33m=\u001b[0m \u001b[1;32mNone\u001b[0m\u001b[1;33m\u001b[0m\u001b[0m\n\u001b[0;32m   5172\u001b[0m         \u001b[1;32mif\u001b[0m \u001b[0mend\u001b[0m \u001b[1;32mis\u001b[0m \u001b[1;32mnot\u001b[0m \u001b[1;32mNone\u001b[0m\u001b[1;33m:\u001b[0m\u001b[1;33m\u001b[0m\u001b[0m\n\u001b[1;32m-> 5173\u001b[1;33m             \u001b[0mend_slice\u001b[0m \u001b[1;33m=\u001b[0m \u001b[0mself\u001b[0m\u001b[1;33m.\u001b[0m\u001b[0mget_slice_bound\u001b[0m\u001b[1;33m(\u001b[0m\u001b[0mend\u001b[0m\u001b[1;33m,\u001b[0m \u001b[1;34m\"right\"\u001b[0m\u001b[1;33m,\u001b[0m \u001b[0mkind\u001b[0m\u001b[1;33m)\u001b[0m\u001b[1;33m\u001b[0m\u001b[0m\n\u001b[0m\u001b[0;32m   5174\u001b[0m         \u001b[1;32mif\u001b[0m \u001b[0mend_slice\u001b[0m \u001b[1;32mis\u001b[0m \u001b[1;32mNone\u001b[0m\u001b[1;33m:\u001b[0m\u001b[1;33m\u001b[0m\u001b[0m\n\u001b[0;32m   5175\u001b[0m             \u001b[0mend_slice\u001b[0m \u001b[1;33m=\u001b[0m \u001b[0mlen\u001b[0m\u001b[1;33m(\u001b[0m\u001b[0mself\u001b[0m\u001b[1;33m)\u001b[0m\u001b[1;33m\u001b[0m\u001b[0m\n",
      "\u001b[1;32mc:\\users\\admin\\appdata\\local\\programs\\python\\python37\\lib\\site-packages\\pandas\\core\\indexes\\base.py\u001b[0m in \u001b[0;36mget_slice_bound\u001b[1;34m(self, label, side, kind)\u001b[0m\n\u001b[0;32m   5081\u001b[0m         \u001b[1;31m# we need to look up the label\u001b[0m\u001b[1;33m\u001b[0m\u001b[1;33m\u001b[0m\u001b[0m\n\u001b[0;32m   5082\u001b[0m         \u001b[1;32mtry\u001b[0m\u001b[1;33m:\u001b[0m\u001b[1;33m\u001b[0m\u001b[0m\n\u001b[1;32m-> 5083\u001b[1;33m             \u001b[0mslc\u001b[0m \u001b[1;33m=\u001b[0m \u001b[0mself\u001b[0m\u001b[1;33m.\u001b[0m\u001b[0mget_loc\u001b[0m\u001b[1;33m(\u001b[0m\u001b[0mlabel\u001b[0m\u001b[1;33m)\u001b[0m\u001b[1;33m\u001b[0m\u001b[0m\n\u001b[0m\u001b[0;32m   5084\u001b[0m         \u001b[1;32mexcept\u001b[0m \u001b[0mKeyError\u001b[0m \u001b[1;32mas\u001b[0m \u001b[0merr\u001b[0m\u001b[1;33m:\u001b[0m\u001b[1;33m\u001b[0m\u001b[0m\n\u001b[0;32m   5085\u001b[0m             \u001b[1;32mtry\u001b[0m\u001b[1;33m:\u001b[0m\u001b[1;33m\u001b[0m\u001b[0m\n",
      "\u001b[1;32mc:\\users\\admin\\appdata\\local\\programs\\python\\python37\\lib\\site-packages\\pandas\\core\\indexes\\base.py\u001b[0m in \u001b[0;36mget_loc\u001b[1;34m(self, key, method, tolerance)\u001b[0m\n\u001b[0;32m   2893\u001b[0m             \u001b[0mcasted_key\u001b[0m \u001b[1;33m=\u001b[0m \u001b[0mself\u001b[0m\u001b[1;33m.\u001b[0m\u001b[0m_maybe_cast_indexer\u001b[0m\u001b[1;33m(\u001b[0m\u001b[0mkey\u001b[0m\u001b[1;33m)\u001b[0m\u001b[1;33m\u001b[0m\u001b[0m\n\u001b[0;32m   2894\u001b[0m             \u001b[1;32mtry\u001b[0m\u001b[1;33m:\u001b[0m\u001b[1;33m\u001b[0m\u001b[0m\n\u001b[1;32m-> 2895\u001b[1;33m                 \u001b[1;32mreturn\u001b[0m \u001b[0mself\u001b[0m\u001b[1;33m.\u001b[0m\u001b[0m_engine\u001b[0m\u001b[1;33m.\u001b[0m\u001b[0mget_loc\u001b[0m\u001b[1;33m(\u001b[0m\u001b[0mcasted_key\u001b[0m\u001b[1;33m)\u001b[0m\u001b[1;33m\u001b[0m\u001b[0m\n\u001b[0m\u001b[0;32m   2896\u001b[0m             \u001b[1;32mexcept\u001b[0m \u001b[0mKeyError\u001b[0m \u001b[1;32mas\u001b[0m \u001b[0merr\u001b[0m\u001b[1;33m:\u001b[0m\u001b[1;33m\u001b[0m\u001b[0m\n\u001b[0;32m   2897\u001b[0m                 \u001b[1;32mraise\u001b[0m \u001b[0mKeyError\u001b[0m\u001b[1;33m(\u001b[0m\u001b[0mkey\u001b[0m\u001b[1;33m)\u001b[0m \u001b[1;32mfrom\u001b[0m \u001b[0merr\u001b[0m\u001b[1;33m\u001b[0m\u001b[0m\n",
      "\u001b[1;32mpandas\\_libs\\index.pyx\u001b[0m in \u001b[0;36mpandas._libs.index.IndexEngine.get_loc\u001b[1;34m()\u001b[0m\n",
      "\u001b[1;32mpandas\\_libs\\index.pyx\u001b[0m in \u001b[0;36mpandas._libs.index.IndexEngine.get_loc\u001b[1;34m()\u001b[0m\n",
      "\u001b[1;31mTypeError\u001b[0m: '0    2018-01-01\n1    2018-01-01\n2    2018-01-01\n3    2018-01-01\n4    2018-01-01\n5    2018-01-01\n6    2018-01-01\n7    2018-01-01\n8    2018-01-01\n9    2018-01-01\n10   2018-01-01\n11   2018-01-01\n12   2018-01-01\n13   2018-01-01\n14   2018-01-01\n15   2018-01-01\n16   2018-01-01\n17   2018-01-01\n18   2018-01-01\n19   2018-01-01\n20   2018-01-01\n21   2018-01-01\n22   2018-01-01\n23   2018-01-01\n24   2018-01-01\n25   2018-01-01\n26   2018-01-01\n27   2018-01-01\n28   2018-01-01\n29   2018-01-01\n30   2018-01-01\n31   2018-01-01\n32   2018-01-01\n33   2018-01-01\n34   2018-01-01\n35   2018-01-01\n36   2018-01-01\n37   2018-01-01\n38   2018-01-01\n39   2018-01-01\n40   2018-01-01\n41   2018-01-01\n42   2018-01-01\n43   2018-01-01\n44   2018-01-01\n45   2018-01-01\n46   2018-01-01\n47   2018-01-01\n48   2018-01-01\n49   2018-01-01\nName: Dates1, dtype: datetime64[ns]' is an invalid key"
     ]
    }
   ],
   "source": [
    "train = testRate.loc[:testRate['Dates1']]\n",
    "test = testRate.loc[testRate['Dates1']:]\n",
    "\n",
    "ax = train.plot()\n",
    "test.plot(ax=ax)\n",
    "plt.legend(['train', 'test'])"
   ]
  },
  {
   "cell_type": "code",
   "execution_count": 36,
   "metadata": {},
   "outputs": [
    {
     "ename": "NameError",
     "evalue": "name 'train' is not defined",
     "output_type": "error",
     "traceback": [
      "\u001b[1;31m---------------------------------------------------------------------------\u001b[0m",
      "\u001b[1;31mNameError\u001b[0m                                 Traceback (most recent call last)",
      "\u001b[1;32m<ipython-input-36-9f4486f422ba>\u001b[0m in \u001b[0;36m<module>\u001b[1;34m\u001b[0m\n\u001b[0;32m      1\u001b[0m \u001b[0msc\u001b[0m \u001b[1;33m=\u001b[0m \u001b[0mMinMaxScaler\u001b[0m\u001b[1;33m(\u001b[0m\u001b[1;33m)\u001b[0m\u001b[1;33m\u001b[0m\u001b[0m\n\u001b[1;32m----> 2\u001b[1;33m \u001b[0mtrain_sc\u001b[0m \u001b[1;33m=\u001b[0m \u001b[0msc\u001b[0m\u001b[1;33m.\u001b[0m\u001b[0mfit_transform\u001b[0m\u001b[1;33m(\u001b[0m\u001b[0mtrain\u001b[0m\u001b[1;33m)\u001b[0m\u001b[1;33m\u001b[0m\u001b[0m\n\u001b[0m\u001b[0;32m      3\u001b[0m \u001b[0mtest_sc\u001b[0m \u001b[1;33m=\u001b[0m \u001b[0msc\u001b[0m\u001b[1;33m.\u001b[0m\u001b[0mtransform\u001b[0m\u001b[1;33m(\u001b[0m\u001b[0mtest\u001b[0m\u001b[1;33m)\u001b[0m\u001b[1;33m\u001b[0m\u001b[0m\n",
      "\u001b[1;31mNameError\u001b[0m: name 'train' is not defined"
     ]
    }
   ],
   "source": [
    "sc = MinMaxScaler()\n",
    "train_sc = sc.fit_transform(train)\n",
    "test_sc = sc.transform(test)"
   ]
  },
  {
   "cell_type": "code",
   "execution_count": 33,
   "metadata": {},
   "outputs": [],
   "source": [
    "from sklearn.preprocessing import MinMaxScaler"
   ]
  },
  {
   "cell_type": "code",
   "execution_count": 31,
   "metadata": {},
   "outputs": [
    {
     "ename": "KeyError",
     "evalue": "'Dates'",
     "output_type": "error",
     "traceback": [
      "\u001b[1;31m---------------------------------------------------------------------------\u001b[0m",
      "\u001b[1;31mKeyError\u001b[0m                                  Traceback (most recent call last)",
      "\u001b[1;32mc:\\users\\admin\\appdata\\local\\programs\\python\\python37\\lib\\site-packages\\pandas\\core\\indexes\\base.py\u001b[0m in \u001b[0;36mget_loc\u001b[1;34m(self, key, method, tolerance)\u001b[0m\n\u001b[0;32m   2894\u001b[0m             \u001b[1;32mtry\u001b[0m\u001b[1;33m:\u001b[0m\u001b[1;33m\u001b[0m\u001b[0m\n\u001b[1;32m-> 2895\u001b[1;33m                 \u001b[1;32mreturn\u001b[0m \u001b[0mself\u001b[0m\u001b[1;33m.\u001b[0m\u001b[0m_engine\u001b[0m\u001b[1;33m.\u001b[0m\u001b[0mget_loc\u001b[0m\u001b[1;33m(\u001b[0m\u001b[0mcasted_key\u001b[0m\u001b[1;33m)\u001b[0m\u001b[1;33m\u001b[0m\u001b[0m\n\u001b[0m\u001b[0;32m   2896\u001b[0m             \u001b[1;32mexcept\u001b[0m \u001b[0mKeyError\u001b[0m \u001b[1;32mas\u001b[0m \u001b[0merr\u001b[0m\u001b[1;33m:\u001b[0m\u001b[1;33m\u001b[0m\u001b[0m\n",
      "\u001b[1;32mpandas\\_libs\\index.pyx\u001b[0m in \u001b[0;36mpandas._libs.index.IndexEngine.get_loc\u001b[1;34m()\u001b[0m\n",
      "\u001b[1;32mpandas\\_libs\\index.pyx\u001b[0m in \u001b[0;36mpandas._libs.index.IndexEngine.get_loc\u001b[1;34m()\u001b[0m\n",
      "\u001b[1;32mpandas\\_libs\\hashtable_class_helper.pxi\u001b[0m in \u001b[0;36mpandas._libs.hashtable.PyObjectHashTable.get_item\u001b[1;34m()\u001b[0m\n",
      "\u001b[1;32mpandas\\_libs\\hashtable_class_helper.pxi\u001b[0m in \u001b[0;36mpandas._libs.hashtable.PyObjectHashTable.get_item\u001b[1;34m()\u001b[0m\n",
      "\u001b[1;31mKeyError\u001b[0m: 'Dates'",
      "\nThe above exception was the direct cause of the following exception:\n",
      "\u001b[1;31mKeyError\u001b[0m                                  Traceback (most recent call last)",
      "\u001b[1;32m<ipython-input-31-e80d024a69dd>\u001b[0m in \u001b[0;36m<module>\u001b[1;34m\u001b[0m\n\u001b[1;32m----> 1\u001b[1;33m \u001b[0mtestRate\u001b[0m\u001b[1;33m[\u001b[0m\u001b[1;34m'Dates'\u001b[0m\u001b[1;33m]\u001b[0m \u001b[1;33m=\u001b[0m \u001b[0mtestRate\u001b[0m\u001b[1;33m[\u001b[0m\u001b[1;34m'Dates'\u001b[0m\u001b[1;33m]\u001b[0m\u001b[1;33m.\u001b[0m\u001b[0mvalues\u001b[0m\u001b[1;33m.\u001b[0m\u001b[0mastype\u001b[0m\u001b[1;33m(\u001b[0m\u001b[1;34m'datetime64[D]'\u001b[0m\u001b[1;33m)\u001b[0m\u001b[1;33m\u001b[0m\u001b[0m\n\u001b[0m\u001b[0;32m      2\u001b[0m \u001b[0mtestRate\u001b[0m\u001b[1;33m[\u001b[0m\u001b[1;34m'Dates'\u001b[0m\u001b[1;33m]\u001b[0m\u001b[1;33m\u001b[0m\u001b[0m\n",
      "\u001b[1;32mc:\\users\\admin\\appdata\\local\\programs\\python\\python37\\lib\\site-packages\\pandas\\core\\frame.py\u001b[0m in \u001b[0;36m__getitem__\u001b[1;34m(self, key)\u001b[0m\n\u001b[0;32m   2900\u001b[0m             \u001b[1;32mif\u001b[0m \u001b[0mself\u001b[0m\u001b[1;33m.\u001b[0m\u001b[0mcolumns\u001b[0m\u001b[1;33m.\u001b[0m\u001b[0mnlevels\u001b[0m \u001b[1;33m>\u001b[0m \u001b[1;36m1\u001b[0m\u001b[1;33m:\u001b[0m\u001b[1;33m\u001b[0m\u001b[0m\n\u001b[0;32m   2901\u001b[0m                 \u001b[1;32mreturn\u001b[0m \u001b[0mself\u001b[0m\u001b[1;33m.\u001b[0m\u001b[0m_getitem_multilevel\u001b[0m\u001b[1;33m(\u001b[0m\u001b[0mkey\u001b[0m\u001b[1;33m)\u001b[0m\u001b[1;33m\u001b[0m\u001b[0m\n\u001b[1;32m-> 2902\u001b[1;33m             \u001b[0mindexer\u001b[0m \u001b[1;33m=\u001b[0m \u001b[0mself\u001b[0m\u001b[1;33m.\u001b[0m\u001b[0mcolumns\u001b[0m\u001b[1;33m.\u001b[0m\u001b[0mget_loc\u001b[0m\u001b[1;33m(\u001b[0m\u001b[0mkey\u001b[0m\u001b[1;33m)\u001b[0m\u001b[1;33m\u001b[0m\u001b[0m\n\u001b[0m\u001b[0;32m   2903\u001b[0m             \u001b[1;32mif\u001b[0m \u001b[0mis_integer\u001b[0m\u001b[1;33m(\u001b[0m\u001b[0mindexer\u001b[0m\u001b[1;33m)\u001b[0m\u001b[1;33m:\u001b[0m\u001b[1;33m\u001b[0m\u001b[0m\n\u001b[0;32m   2904\u001b[0m                 \u001b[0mindexer\u001b[0m \u001b[1;33m=\u001b[0m \u001b[1;33m[\u001b[0m\u001b[0mindexer\u001b[0m\u001b[1;33m]\u001b[0m\u001b[1;33m\u001b[0m\u001b[0m\n",
      "\u001b[1;32mc:\\users\\admin\\appdata\\local\\programs\\python\\python37\\lib\\site-packages\\pandas\\core\\indexes\\base.py\u001b[0m in \u001b[0;36mget_loc\u001b[1;34m(self, key, method, tolerance)\u001b[0m\n\u001b[0;32m   2895\u001b[0m                 \u001b[1;32mreturn\u001b[0m \u001b[0mself\u001b[0m\u001b[1;33m.\u001b[0m\u001b[0m_engine\u001b[0m\u001b[1;33m.\u001b[0m\u001b[0mget_loc\u001b[0m\u001b[1;33m(\u001b[0m\u001b[0mcasted_key\u001b[0m\u001b[1;33m)\u001b[0m\u001b[1;33m\u001b[0m\u001b[0m\n\u001b[0;32m   2896\u001b[0m             \u001b[1;32mexcept\u001b[0m \u001b[0mKeyError\u001b[0m \u001b[1;32mas\u001b[0m \u001b[0merr\u001b[0m\u001b[1;33m:\u001b[0m\u001b[1;33m\u001b[0m\u001b[0m\n\u001b[1;32m-> 2897\u001b[1;33m                 \u001b[1;32mraise\u001b[0m \u001b[0mKeyError\u001b[0m\u001b[1;33m(\u001b[0m\u001b[0mkey\u001b[0m\u001b[1;33m)\u001b[0m \u001b[1;32mfrom\u001b[0m \u001b[0merr\u001b[0m\u001b[1;33m\u001b[0m\u001b[0m\n\u001b[0m\u001b[0;32m   2898\u001b[0m \u001b[1;33m\u001b[0m\u001b[0m\n\u001b[0;32m   2899\u001b[0m         \u001b[1;32mif\u001b[0m \u001b[0mtolerance\u001b[0m \u001b[1;32mis\u001b[0m \u001b[1;32mnot\u001b[0m \u001b[1;32mNone\u001b[0m\u001b[1;33m:\u001b[0m\u001b[1;33m\u001b[0m\u001b[0m\n",
      "\u001b[1;31mKeyError\u001b[0m: 'Dates'"
     ]
    }
   ],
   "source": [
    "testRate['Dates'] = testRate['Dates'].values.astype('datetime64[D]')\n",
    "testRate['Dates']"
   ]
  },
  {
   "cell_type": "code",
   "execution_count": 10,
   "metadata": {},
   "outputs": [
    {
     "data": {
      "text/html": [
       "<div>\n",
       "<style scoped>\n",
       "    .dataframe tbody tr th:only-of-type {\n",
       "        vertical-align: middle;\n",
       "    }\n",
       "\n",
       "    .dataframe tbody tr th {\n",
       "        vertical-align: top;\n",
       "    }\n",
       "\n",
       "    .dataframe thead th {\n",
       "        text-align: right;\n",
       "    }\n",
       "</style>\n",
       "<table border=\"1\" class=\"dataframe\">\n",
       "  <thead>\n",
       "    <tr style=\"text-align: right;\">\n",
       "      <th></th>\n",
       "      <th>Time</th>\n",
       "      <th>Open</th>\n",
       "      <th>High</th>\n",
       "      <th>Low</th>\n",
       "      <th>Close</th>\n",
       "      <th>Day</th>\n",
       "      <th>Month</th>\n",
       "      <th>Year</th>\n",
       "      <th>Hour</th>\n",
       "    </tr>\n",
       "  </thead>\n",
       "  <tbody>\n",
       "    <tr>\n",
       "      <th>0</th>\n",
       "      <td>01.01.2013 01:00:00.000</td>\n",
       "      <td>1.31975</td>\n",
       "      <td>1.32991</td>\n",
       "      <td>1.31570</td>\n",
       "      <td>1.31833</td>\n",
       "      <td>1</td>\n",
       "      <td>1</td>\n",
       "      <td>2013</td>\n",
       "      <td>1</td>\n",
       "    </tr>\n",
       "    <tr>\n",
       "      <th>1</th>\n",
       "      <td>02.01.2013 01:00:00.000</td>\n",
       "      <td>1.31836</td>\n",
       "      <td>1.31887</td>\n",
       "      <td>1.30222</td>\n",
       "      <td>1.30243</td>\n",
       "      <td>2</td>\n",
       "      <td>1</td>\n",
       "      <td>2013</td>\n",
       "      <td>1</td>\n",
       "    </tr>\n",
       "    <tr>\n",
       "      <th>2</th>\n",
       "      <td>03.01.2013 01:00:00.000</td>\n",
       "      <td>1.30240</td>\n",
       "      <td>1.30892</td>\n",
       "      <td>1.29971</td>\n",
       "      <td>1.30678</td>\n",
       "      <td>3</td>\n",
       "      <td>1</td>\n",
       "      <td>2013</td>\n",
       "      <td>1</td>\n",
       "    </tr>\n",
       "    <tr>\n",
       "      <th>3</th>\n",
       "      <td>04.01.2013 01:00:00.000</td>\n",
       "      <td>1.30678</td>\n",
       "      <td>1.30678</td>\n",
       "      <td>1.30678</td>\n",
       "      <td>1.30678</td>\n",
       "      <td>4</td>\n",
       "      <td>1</td>\n",
       "      <td>2013</td>\n",
       "      <td>1</td>\n",
       "    </tr>\n",
       "    <tr>\n",
       "      <th>4</th>\n",
       "      <td>05.01.2013 01:00:00.000</td>\n",
       "      <td>1.30745</td>\n",
       "      <td>1.30792</td>\n",
       "      <td>1.30655</td>\n",
       "      <td>1.30676</td>\n",
       "      <td>5</td>\n",
       "      <td>1</td>\n",
       "      <td>2013</td>\n",
       "      <td>1</td>\n",
       "    </tr>\n",
       "  </tbody>\n",
       "</table>\n",
       "</div>"
      ],
      "text/plain": [
       "                      Time     Open     High      Low    Close  Day  Month  \\\n",
       "0  01.01.2013 01:00:00.000  1.31975  1.32991  1.31570  1.31833    1      1   \n",
       "1  02.01.2013 01:00:00.000  1.31836  1.31887  1.30222  1.30243    2      1   \n",
       "2  03.01.2013 01:00:00.000  1.30240  1.30892  1.29971  1.30678    3      1   \n",
       "3  04.01.2013 01:00:00.000  1.30678  1.30678  1.30678  1.30678    4      1   \n",
       "4  05.01.2013 01:00:00.000  1.30745  1.30792  1.30655  1.30676    5      1   \n",
       "\n",
       "   Year  Hour  \n",
       "0  2013     1  \n",
       "1  2013     1  \n",
       "2  2013     1  \n",
       "3  2013     1  \n",
       "4  2013     1  "
      ]
     },
     "execution_count": 10,
     "metadata": {},
     "output_type": "execute_result"
    }
   ],
   "source": [
    "testRate.head()"
   ]
  },
  {
   "cell_type": "code",
   "execution_count": 27,
   "metadata": {},
   "outputs": [],
   "source": [
    "testRate = test.drop(['Time','Day','Month','Year', 'Hour'], axis=1)"
   ]
  },
  {
   "cell_type": "code",
   "execution_count": 12,
   "metadata": {},
   "outputs": [
    {
     "name": "stdout",
     "output_type": "stream",
     "text": [
      "<class 'pandas.core.frame.DataFrame'>\n",
      "RangeIndex: 50 entries, 0 to 49\n",
      "Data columns (total 10 columns):\n",
      " #   Column  Non-Null Count  Dtype  \n",
      "---  ------  --------------  -----  \n",
      " 0   Time    50 non-null     object \n",
      " 1   Open    50 non-null     float64\n",
      " 2   High    50 non-null     float64\n",
      " 3   Low     50 non-null     float64\n",
      " 4   Close   50 non-null     float64\n",
      " 5   Day     50 non-null     int64  \n",
      " 6   Month   50 non-null     int64  \n",
      " 7   Year    50 non-null     int64  \n",
      " 8   Hour    50 non-null     int64  \n",
      " 9   Dates   50 non-null     string \n",
      "dtypes: float64(4), int64(4), object(1), string(1)\n",
      "memory usage: 4.0+ KB\n"
     ]
    }
   ],
   "source": [
    "testRate.info()"
   ]
  },
  {
   "cell_type": "code",
   "execution_count": 17,
   "metadata": {},
   "outputs": [],
   "source": [
    "testRate[\"Time\"] = pd.to_datetime(testRate['Dates'])\n"
   ]
  },
  {
   "cell_type": "code",
   "execution_count": 19,
   "metadata": {},
   "outputs": [],
   "source": [
    "ind_exchange_data = testRate.set_index([\"Time\"], drop=True)"
   ]
  },
  {
   "cell_type": "code",
   "execution_count": 20,
   "metadata": {},
   "outputs": [],
   "source": [
    "df1 = ind_exchange_data[[\"Close\"]]"
   ]
  },
  {
   "cell_type": "code",
   "execution_count": 21,
   "metadata": {},
   "outputs": [],
   "source": [
    "df2 = df1.rename(columns={'Close': 'Price'})"
   ]
  },
  {
   "cell_type": "code",
   "execution_count": 22,
   "metadata": {},
   "outputs": [],
   "source": [
    "\n",
    "df2= df2.astype(float)"
   ]
  },
  {
   "cell_type": "code",
   "execution_count": 23,
   "metadata": {},
   "outputs": [
    {
     "data": {
      "text/html": [
       "<div>\n",
       "<style scoped>\n",
       "    .dataframe tbody tr th:only-of-type {\n",
       "        vertical-align: middle;\n",
       "    }\n",
       "\n",
       "    .dataframe tbody tr th {\n",
       "        vertical-align: top;\n",
       "    }\n",
       "\n",
       "    .dataframe thead th {\n",
       "        text-align: right;\n",
       "    }\n",
       "</style>\n",
       "<table border=\"1\" class=\"dataframe\">\n",
       "  <thead>\n",
       "    <tr style=\"text-align: right;\">\n",
       "      <th></th>\n",
       "      <th>Price</th>\n",
       "    </tr>\n",
       "    <tr>\n",
       "      <th>Time</th>\n",
       "      <th></th>\n",
       "    </tr>\n",
       "  </thead>\n",
       "  <tbody>\n",
       "    <tr>\n",
       "      <th>2013-01-01</th>\n",
       "      <td>1.31833</td>\n",
       "    </tr>\n",
       "    <tr>\n",
       "      <th>2013-01-02</th>\n",
       "      <td>1.30243</td>\n",
       "    </tr>\n",
       "    <tr>\n",
       "      <th>2013-01-03</th>\n",
       "      <td>1.30678</td>\n",
       "    </tr>\n",
       "    <tr>\n",
       "      <th>2013-01-04</th>\n",
       "      <td>1.30678</td>\n",
       "    </tr>\n",
       "    <tr>\n",
       "      <th>2013-01-05</th>\n",
       "      <td>1.30676</td>\n",
       "    </tr>\n",
       "  </tbody>\n",
       "</table>\n",
       "</div>"
      ],
      "text/plain": [
       "              Price\n",
       "Time               \n",
       "2013-01-01  1.31833\n",
       "2013-01-02  1.30243\n",
       "2013-01-03  1.30678\n",
       "2013-01-04  1.30678\n",
       "2013-01-05  1.30676"
      ]
     },
     "execution_count": 23,
     "metadata": {},
     "output_type": "execute_result"
    }
   ],
   "source": [
    "\n",
    "df2.head()"
   ]
  },
  {
   "cell_type": "code",
   "execution_count": 24,
   "metadata": {},
   "outputs": [
    {
     "data": {
      "text/plain": [
       "<AxesSubplot:xlabel='Time'>"
      ]
     },
     "execution_count": 24,
     "metadata": {},
     "output_type": "execute_result"
    },
    {
     "data": {
      "image/png": "[encoded data removed]",
      "text/plain": [
       "<Figure size 432x288 with 1 Axes>"
      ]
     },
     "metadata": {},
     "output_type": "display_data"
    }
   ],
   "source": [
    "df2.plot()"
   ]
  },
  {
   "cell_type": "code",
   "execution_count": 60,
   "metadata": {},
   "outputs": [
    {
     "data": {
      "text/plain": [
       "<matplotlib.legend.Legend at 0x15db0ffabe0>"
      ]
     },
     "execution_count": 60,
     "metadata": {},
     "output_type": "execute_result"
    },
    {
     "data": {
      "image/png": "[encoded data removed]",
      "text/plain": [
       "<Figure size 432x288 with 1 Axes>"
      ]
     },
     "metadata": {},
     "output_type": "display_data"
    }
   ],
   "source": [
    "split_date = pd.Timestamp('2013-02-01')\n",
    "\n",
    "train = df2.loc[:split_date]\n",
    "test = df2.loc[split_date:]\n",
    "\n",
    "ax = train.plot()\n",
    "test.plot(ax=ax)\n",
    "plt.legend(['train', 'test'])"
   ]
  },
  {
   "cell_type": "code",
   "execution_count": 61,
   "metadata": {},
   "outputs": [],
   "source": [
    "sc = MinMaxScaler()\n",
    "train_sc = sc.fit_transform(train)\n",
    "test_sc = sc.transform(test)"
   ]
  },
  {
   "cell_type": "code",
   "execution_count": 62,
   "metadata": {},
   "outputs": [],
   "source": [
    "X_train = train_sc[:-1]\n",
    "y_train = train_sc[1:]\n",
    "\n",
    "X_test = test_sc[:-1]\n",
    "y_test = test_sc[1:]"
   ]
  },
  {
   "cell_type": "code",
   "execution_count": 63,
   "metadata": {},
   "outputs": [],
   "source": [
    "from keras.models import Sequential\n",
    "from keras.layers import Dense\n",
    "import keras.backend as K\n",
    "from keras.callbacks import EarlyStopping\n",
    "from keras.optimizers import Adam\n",
    "from keras.models import load_model"
   ]
  },
  {
   "cell_type": "code",
   "execution_count": 64,
   "metadata": {},
   "outputs": [],
   "source": [
    "K.clear_session()"
   ]
  },
  {
   "cell_type": "code",
   "execution_count": 71,
   "metadata": {},
   "outputs": [
    {
     "name": "stdout",
     "output_type": "stream",
     "text": [
      "Epoch 1/50\n",
      "31/31 [==============================] - 0s 527us/step - loss: 0.1258\n",
      "Epoch 2/50\n",
      "31/31 [==============================] - 0s 581us/step - loss: 0.0675\n",
      "Epoch 3/50\n",
      "31/31 [==============================] - 0s 612us/step - loss: 0.0383\n",
      "Epoch 4/50\n",
      "31/31 [==============================] - 0s 677us/step - loss: 0.0256\n",
      "Epoch 5/50\n",
      "31/31 [==============================] - 0s 742us/step - loss: 0.0212\n",
      "Epoch 6/50\n",
      "31/31 [==============================] - 0s 613us/step - loss: 0.0199\n",
      "Epoch 7/50\n",
      "31/31 [==============================] - 0s 677us/step - loss: 0.0194\n",
      "Epoch 8/50\n",
      "31/31 [==============================] - 0s 710us/step - loss: 0.0190\n",
      "Epoch 9/50\n",
      "31/31 [==============================] - 0s 677us/step - loss: 0.0185\n",
      "Epoch 10/50\n",
      "31/31 [==============================] - 0s 715us/step - loss: 0.0180\n",
      "Epoch 11/50\n",
      "31/31 [==============================] - 0s 548us/step - loss: 0.0174\n",
      "Epoch 12/50\n",
      "31/31 [==============================] - 0s 645us/step - loss: 0.0168\n",
      "Epoch 13/50\n",
      "31/31 [==============================] - 0s 678us/step - loss: 0.0163\n",
      "Epoch 14/50\n",
      "31/31 [==============================] - 0s 613us/step - loss: 0.0158\n",
      "Epoch 15/50\n",
      "31/31 [==============================] - 0s 613us/step - loss: 0.0153\n",
      "Epoch 16/50\n",
      "31/31 [==============================] - 0s 677us/step - loss: 0.0148\n",
      "Epoch 17/50\n",
      "31/31 [==============================] - 0s 613us/step - loss: 0.0144\n",
      "Epoch 18/50\n",
      "31/31 [==============================] - 0s 613us/step - loss: 0.0140\n",
      "Epoch 19/50\n",
      "31/31 [==============================] - 0s 645us/step - loss: 0.0136\n",
      "Epoch 20/50\n",
      "31/31 [==============================] - 0s 677us/step - loss: 0.0133\n",
      "Epoch 21/50\n",
      "31/31 [==============================] - 0s 581us/step - loss: 0.0130\n",
      "Epoch 22/50\n",
      "31/31 [==============================] - 0s 645us/step - loss: 0.0127\n",
      "Epoch 23/50\n",
      "31/31 [==============================] - 0s 774us/step - loss: 0.0124\n",
      "Epoch 24/50\n",
      "31/31 [==============================] - 0s 839us/step - loss: 0.0122\n",
      "Epoch 25/50\n",
      "31/31 [==============================] - 0s 710us/step - loss: 0.0119\n",
      "Epoch 26/50\n",
      "31/31 [==============================] - 0s 677us/step - loss: 0.0117\n",
      "Epoch 27/50\n",
      "31/31 [==============================] - 0s 645us/step - loss: 0.0116\n",
      "Epoch 28/50\n",
      "31/31 [==============================] - 0s 742us/step - loss: 0.0114\n",
      "Epoch 29/50\n",
      "31/31 [==============================] - 0s 645us/step - loss: 0.0113\n",
      "Epoch 30/50\n",
      "31/31 [==============================] - 0s 581us/step - loss: 0.0111\n",
      "Epoch 31/50\n",
      "31/31 [==============================] - 0s 625us/step - loss: 0.0110\n",
      "Epoch 32/50\n",
      "31/31 [==============================] - 0s 548us/step - loss: 0.0109\n",
      "Epoch 33/50\n",
      "31/31 [==============================] - 0s 612us/step - loss: 0.0108\n",
      "Epoch 34/50\n",
      "31/31 [==============================] - 0s 604us/step - loss: 0.0108\n",
      "Epoch 35/50\n",
      "31/31 [==============================] - 0s 613us/step - loss: 0.0107\n",
      "Epoch 36/50\n",
      "31/31 [==============================] - 0s 581us/step - loss: 0.0106\n",
      "Epoch 37/50\n",
      "31/31 [==============================] - 0s 613us/step - loss: 0.0106\n",
      "Epoch 38/50\n",
      "31/31 [==============================] - 0s 611us/step - loss: 0.0105\n",
      "Epoch 39/50\n",
      "31/31 [==============================] - 0s 613us/step - loss: 0.0105\n",
      "Epoch 40/50\n",
      "31/31 [==============================] - 0s 870us/step - loss: 0.0105\n",
      "Epoch 41/50\n",
      "31/31 [==============================] - 0s 807us/step - loss: 0.0104\n",
      "Epoch 42/50\n",
      "31/31 [==============================] - 0s 677us/step - loss: 0.0104\n",
      "Epoch 43/50\n",
      "31/31 [==============================] - 0s 711us/step - loss: 0.0104\n",
      "Epoch 44/50\n",
      "31/31 [==============================] - 0s 581us/step - loss: 0.0104\n",
      "Epoch 45/50\n",
      "31/31 [==============================] - 0s 710us/step - loss: 0.0104\n",
      "Epoch 46/50\n",
      "31/31 [==============================] - 0s 645us/step - loss: 0.0103\n",
      "Epoch 47/50\n",
      "31/31 [==============================] - 0s 516us/step - loss: 0.0103\n",
      "Epoch 48/50\n",
      "31/31 [==============================] - 0s 613us/step - loss: 0.0103\n",
      "Epoch 49/50\n",
      "31/31 [==============================] - 0s 581us/step - loss: 0.0103\n",
      "Epoch 50/50\n",
      "31/31 [==============================] - 0s 548us/step - loss: 0.0103\n"
     ]
    }
   ],
   "source": [
    "model = Sequential()\n",
    "model.add(Dense(12, input_dim=1, activation='relu'))\n",
    "model.add(Dense(1))\n",
    "model.compile(loss='mean_squared_error', optimizer='adam')\n",
    "early_stop = EarlyStopping(monitor='loss', patience=2, verbose=1)\n",
    "history = model.fit(X_train, y_train, epochs=50, batch_size=1, verbose=1, callbacks=[early_stop], shuffle=False)"
   ]
  },
  {
   "cell_type": "code",
   "execution_count": 74,
   "metadata": {},
   "outputs": [
    {
     "name": "stdout",
     "output_type": "stream",
     "text": [
      "The R2 score on the Train set is:\t0.869\n",
      "The Adjusted R2 score on the Train set is:\t0.865\n",
      "\n",
      "The R2 score on the Test set is:\t0.439\n",
      "The Adjusted R2 score on the Test set is:\t0.404\n"
     ]
    }
   ],
   "source": [
    "y_pred_test_ann = model.predict(X_test)\n",
    "y_train_pred_ann = model.predict(X_train)\n",
    "print(\"The R2 score on the Train set is:\\t{:0.3f}\".format(r2_score(y_train, y_train_pred_ann)))\n",
    "r2_train = r2_score(y_train, y_train_pred_ann)\n",
    "print(\"The Adjusted R2 score on the Train set is:\\t{:0.3f}\\n\".format(adj_r2_score(r2_train, X_train.shape[0], X_train.shape[1])))\n",
    "print(\"The R2 score on the Test set is:\\t{:0.3f}\".format(r2_score(y_test, y_pred_test_ann)))\n",
    "r2_test = r2_score(y_test, y_pred_test_ann)\n",
    "print(\"The Adjusted R2 score on the Test set is:\\t{:0.3f}\".format(adj_r2_score(r2_test, X_test.shape[0], X_test.shape[1])))"
   ]
  },
  {
   "cell_type": "code",
   "execution_count": 76,
   "metadata": {},
   "outputs": [],
   "source": [
    "model.save('ANN_NonShift.h5')"
   ]
  },
  {
   "cell_type": "code",
   "execution_count": 77,
   "metadata": {},
   "outputs": [],
   "source": [
    "X_tr_t = X_train.reshape(X_train.shape[0], 1, X_train.shape[1])\n",
    "X_tst_t = X_test.reshape(X_test.shape[0], 1, X_test.shape[1])"
   ]
  },
  {
   "cell_type": "code",
   "execution_count": 78,
   "metadata": {},
   "outputs": [
    {
     "name": "stdout",
     "output_type": "stream",
     "text": [
      "Epoch 1/200\n",
      "31/31 [==============================] - 0s 871us/step - loss: 0.3667\n",
      "Epoch 2/200\n",
      "31/31 [==============================] - 0s 1ms/step - loss: 0.3031\n",
      "Epoch 3/200\n",
      "31/31 [==============================] - 0s 1ms/step - loss: 0.2527\n",
      "Epoch 4/200\n",
      "31/31 [==============================] - 0s 968us/step - loss: 0.2103\n",
      "Epoch 5/200\n",
      "31/31 [==============================] - 0s 1ms/step - loss: 0.1739\n",
      "Epoch 6/200\n",
      "31/31 [==============================] - 0s 967us/step - loss: 0.1426\n",
      "Epoch 7/200\n",
      "31/31 [==============================] - 0s 839us/step - loss: 0.1161\n",
      "Epoch 8/200\n",
      "31/31 [==============================] - 0s 710us/step - loss: 0.0942\n",
      "Epoch 9/200\n",
      "31/31 [==============================] - 0s 904us/step - loss: 0.0768\n",
      "Epoch 10/200\n",
      "31/31 [==============================] - 0s 1ms/step - loss: 0.0635\n",
      "Epoch 11/200\n",
      "31/31 [==============================] - 0s 2ms/step - loss: 0.0538\n",
      "Epoch 12/200\n",
      "31/31 [==============================] - 0s 1ms/step - loss: 0.0471\n",
      "Epoch 13/200\n",
      "31/31 [==============================] - 0s 1000us/step - loss: 0.0425\n",
      "Epoch 14/200\n",
      "31/31 [==============================] - 0s 1ms/step - loss: 0.0396\n",
      "Epoch 15/200\n",
      "31/31 [==============================] - 0s 1ms/step - loss: 0.0376\n",
      "Epoch 16/200\n",
      "31/31 [==============================] - 0s 1ms/step - loss: 0.0363\n",
      "Epoch 17/200\n",
      "31/31 [==============================] - 0s 872us/step - loss: 0.0352\n",
      "Epoch 18/200\n",
      "31/31 [==============================] - 0s 1ms/step - loss: 0.0344\n",
      "Epoch 19/200\n",
      "31/31 [==============================] - 0s 1ms/step - loss: 0.0336\n",
      "Epoch 20/200\n",
      "31/31 [==============================] - 0s 1ms/step - loss: 0.0328\n",
      "Epoch 21/200\n",
      "31/31 [==============================] - 0s 1ms/step - loss: 0.0321\n",
      "Epoch 22/200\n",
      "31/31 [==============================] - 0s 1ms/step - loss: 0.0313\n",
      "Epoch 23/200\n",
      "31/31 [==============================] - 0s 903us/step - loss: 0.0305\n",
      "Epoch 24/200\n",
      "31/31 [==============================] - 0s 871us/step - loss: 0.0298\n",
      "Epoch 25/200\n",
      "31/31 [==============================] - 0s 1ms/step - loss: 0.0290\n",
      "Epoch 26/200\n",
      "31/31 [==============================] - 0s 1ms/step - loss: 0.0283\n",
      "Epoch 27/200\n",
      "31/31 [==============================] - 0s 1ms/step - loss: 0.0275\n",
      "Epoch 28/200\n",
      "31/31 [==============================] - 0s 1ms/step - loss: 0.0268\n",
      "Epoch 29/200\n",
      "31/31 [==============================] - 0s 1ms/step - loss: 0.0261\n",
      "Epoch 30/200\n",
      "31/31 [==============================] - 0s 742us/step - loss: 0.0254\n",
      "Epoch 31/200\n",
      "31/31 [==============================] - 0s 709us/step - loss: 0.0247\n",
      "Epoch 32/200\n",
      "31/31 [==============================] - 0s 903us/step - loss: 0.0240\n",
      "Epoch 33/200\n",
      "31/31 [==============================] - 0s 1ms/step - loss: 0.0233\n",
      "Epoch 34/200\n",
      "31/31 [==============================] - 0s 1ms/step - loss: 0.0227\n",
      "Epoch 35/200\n",
      "31/31 [==============================] - 0s 1ms/step - loss: 0.0221\n",
      "Epoch 36/200\n",
      "31/31 [==============================] - 0s 1ms/step - loss: 0.0214\n",
      "Epoch 37/200\n",
      "31/31 [==============================] - 0s 1ms/step - loss: 0.0208\n",
      "Epoch 38/200\n",
      "31/31 [==============================] - 0s 903us/step - loss: 0.0203\n",
      "Epoch 39/200\n",
      "31/31 [==============================] - 0s 1ms/step - loss: 0.0197\n",
      "Epoch 40/200\n",
      "31/31 [==============================] - 0s 742us/step - loss: 0.0192\n",
      "Epoch 41/200\n",
      "31/31 [==============================] - 0s 741us/step - loss: 0.0186\n",
      "Epoch 42/200\n",
      "31/31 [==============================] - 0s 1ms/step - loss: 0.0181\n",
      "Epoch 43/200\n",
      "31/31 [==============================] - 0s 968us/step - loss: 0.0177\n",
      "Epoch 44/200\n",
      "31/31 [==============================] - 0s 1ms/step - loss: 0.0172\n",
      "Epoch 45/200\n",
      "31/31 [==============================] - 0s 1ms/step - loss: 0.0167\n",
      "Epoch 46/200\n",
      "31/31 [==============================] - 0s 1ms/step - loss: 0.0163\n",
      "Epoch 47/200\n",
      "31/31 [==============================] - 0s 935us/step - loss: 0.0159\n",
      "Epoch 48/200\n",
      "31/31 [==============================] - 0s 968us/step - loss: 0.0155\n",
      "Epoch 49/200\n",
      "31/31 [==============================] - 0s 935us/step - loss: 0.0151\n",
      "Epoch 50/200\n",
      "31/31 [==============================] - 0s 935us/step - loss: 0.0148\n",
      "Epoch 51/200\n",
      "31/31 [==============================] - 0s 968us/step - loss: 0.0144\n",
      "Epoch 52/200\n",
      "31/31 [==============================] - 0s 1ms/step - loss: 0.0141\n",
      "Epoch 53/200\n",
      "31/31 [==============================] - 0s 1ms/step - loss: 0.0138\n",
      "Epoch 54/200\n",
      "31/31 [==============================] - 0s 1ms/step - loss: 0.0135\n",
      "Epoch 55/200\n",
      "31/31 [==============================] - 0s 1ms/step - loss: 0.0133\n",
      "Epoch 56/200\n",
      "31/31 [==============================] - 0s 926us/step - loss: 0.0130\n",
      "Epoch 57/200\n",
      "31/31 [==============================] - 0s 1000us/step - loss: 0.0128\n",
      "Epoch 58/200\n",
      "31/31 [==============================] - 0s 935us/step - loss: 0.0125\n",
      "Epoch 59/200\n",
      "31/31 [==============================] - 0s 742us/step - loss: 0.0123\n",
      "Epoch 60/200\n",
      "31/31 [==============================] - 0s 806us/step - loss: 0.0121\n",
      "Epoch 61/200\n",
      "31/31 [==============================] - 0s 871us/step - loss: 0.0119\n",
      "Epoch 62/200\n",
      "31/31 [==============================] - 0s 839us/step - loss: 0.0118\n",
      "Epoch 63/200\n",
      "31/31 [==============================] - 0s 709us/step - loss: 0.0116\n",
      "Epoch 64/200\n",
      "31/31 [==============================] - 0s 839us/step - loss: 0.0115\n",
      "Epoch 65/200\n",
      "31/31 [==============================] - 0s 806us/step - loss: 0.0113\n",
      "Epoch 66/200\n",
      "31/31 [==============================] - 0s 710us/step - loss: 0.0112\n",
      "Epoch 67/200\n",
      "31/31 [==============================] - 0s 774us/step - loss: 0.0111\n",
      "Epoch 68/200\n",
      "31/31 [==============================] - 0s 710us/step - loss: 0.0110\n",
      "Epoch 69/200\n",
      "31/31 [==============================] - 0s 903us/step - loss: 0.0108\n",
      "Epoch 70/200\n",
      "31/31 [==============================] - 0s 1ms/step - loss: 0.0108\n",
      "Epoch 71/200\n",
      "31/31 [==============================] - 0s 1ms/step - loss: 0.0107\n",
      "Epoch 72/200\n",
      "31/31 [==============================] - 0s 1ms/step - loss: 0.0106\n",
      "Epoch 73/200\n",
      "31/31 [==============================] - 0s 1ms/step - loss: 0.0105\n",
      "Epoch 74/200\n",
      "31/31 [==============================] - 0s 871us/step - loss: 0.0105\n",
      "Epoch 75/200\n",
      "31/31 [==============================] - 0s 710us/step - loss: 0.0104\n",
      "Epoch 76/200\n",
      "31/31 [==============================] - 0s 774us/step - loss: 0.0103\n",
      "Epoch 77/200\n",
      "31/31 [==============================] - 0s 710us/step - loss: 0.0103\n",
      "Epoch 78/200\n",
      "31/31 [==============================] - 0s 806us/step - loss: 0.0102\n",
      "Epoch 79/200\n",
      "31/31 [==============================] - 0s 806us/step - loss: 0.0102\n",
      "Epoch 80/200\n",
      "31/31 [==============================] - 0s 742us/step - loss: 0.0102\n",
      "Epoch 81/200\n",
      "31/31 [==============================] - 0s 871us/step - loss: 0.0101\n",
      "Epoch 82/200\n",
      "31/31 [==============================] - 0s 903us/step - loss: 0.0101\n",
      "Epoch 83/200\n",
      "31/31 [==============================] - 0s 904us/step - loss: 0.0101\n",
      "Epoch 84/200\n",
      "31/31 [==============================] - 0s 871us/step - loss: 0.0100\n",
      "Epoch 85/200\n",
      "31/31 [==============================] - 0s 806us/step - loss: 0.0100\n",
      "Epoch 86/200\n",
      "31/31 [==============================] - 0s 1ms/step - loss: 0.0100\n",
      "Epoch 87/200\n",
      "31/31 [==============================] - 0s 839us/step - loss: 0.0100\n",
      "Epoch 88/200\n",
      "31/31 [==============================] - 0s 936us/step - loss: 0.0100\n",
      "Epoch 89/200\n",
      "31/31 [==============================] - 0s 1ms/step - loss: 0.0099\n",
      "Epoch 90/200\n",
      "31/31 [==============================] - 0s 1ms/step - loss: 0.0099\n",
      "Epoch 91/200\n",
      "31/31 [==============================] - 0s 1ms/step - loss: 0.0099\n",
      "Epoch 92/200\n",
      "31/31 [==============================] - 0s 1ms/step - loss: 0.0099\n",
      "Epoch 93/200\n",
      "31/31 [==============================] - 0s 1ms/step - loss: 0.0099\n",
      "Epoch 94/200\n",
      "31/31 [==============================] - 0s 839us/step - loss: 0.0099\n",
      "Epoch 95/200\n",
      "31/31 [==============================] - 0s 774us/step - loss: 0.0099\n",
      "Epoch 96/200\n",
      "31/31 [==============================] - 0s 871us/step - loss: 0.0099\n",
      "Epoch 97/200\n",
      "31/31 [==============================] - 0s 774us/step - loss: 0.0099\n",
      "Epoch 98/200\n",
      "31/31 [==============================] - 0s 677us/step - loss: 0.0099\n",
      "Epoch 99/200\n",
      "31/31 [==============================] - 0s 1ms/step - loss: 0.0099\n",
      "Epoch 100/200\n"
     ]
    },
    {
     "name": "stdout",
     "output_type": "stream",
     "text": [
      "31/31 [==============================] - 0s 871us/step - loss: 0.0099\n",
      "Epoch 101/200\n",
      "31/31 [==============================] - 0s 968us/step - loss: 0.0099\n",
      "Epoch 102/200\n",
      "31/31 [==============================] - 0s 935us/step - loss: 0.0099\n",
      "Epoch 103/200\n",
      "31/31 [==============================] - 0s 968us/step - loss: 0.0099\n",
      "Epoch 104/200\n",
      "31/31 [==============================] - 0s 2ms/step - loss: 0.0098\n",
      "Epoch 105/200\n",
      "31/31 [==============================] - 0s 903us/step - loss: 0.0098\n",
      "Epoch 106/200\n",
      "31/31 [==============================] - 0s 871us/step - loss: 0.0098\n",
      "Epoch 107/200\n",
      "31/31 [==============================] - 0s 935us/step - loss: 0.0098\n",
      "Epoch 108/200\n",
      "31/31 [==============================] - 0s 935us/step - loss: 0.0098\n",
      "Epoch 109/200\n",
      "31/31 [==============================] - 0s 871us/step - loss: 0.0098\n",
      "Epoch 110/200\n",
      "31/31 [==============================] - 0s 936us/step - loss: 0.0098\n",
      "Epoch 111/200\n",
      "31/31 [==============================] - 0s 937us/step - loss: 0.0098\n",
      "Epoch 112/200\n",
      "31/31 [==============================] - 0s 903us/step - loss: 0.0098\n",
      "Epoch 113/200\n",
      "31/31 [==============================] - 0s 903us/step - loss: 0.0098\n",
      "Epoch 114/200\n",
      "31/31 [==============================] - 0s 806us/step - loss: 0.0098\n",
      "Epoch 115/200\n",
      "31/31 [==============================] - 0s 742us/step - loss: 0.0098\n",
      "Epoch 116/200\n",
      "31/31 [==============================] - 0s 774us/step - loss: 0.0098\n",
      "Epoch 117/200\n",
      "31/31 [==============================] - 0s 710us/step - loss: 0.0098\n",
      "Epoch 118/200\n",
      "31/31 [==============================] - 0s 742us/step - loss: 0.0098\n",
      "Epoch 119/200\n",
      "31/31 [==============================] - 0s 710us/step - loss: 0.0098\n",
      "Epoch 120/200\n",
      "31/31 [==============================] - 0s 838us/step - loss: 0.0098\n",
      "Epoch 121/200\n",
      "31/31 [==============================] - 0s 855us/step - loss: 0.0098\n",
      "Epoch 122/200\n",
      "31/31 [==============================] - 0s 806us/step - loss: 0.0098\n",
      "Epoch 123/200\n",
      "31/31 [==============================] - 0s 903us/step - loss: 0.0098\n",
      "Epoch 124/200\n",
      "31/31 [==============================] - 0s 968us/step - loss: 0.0098\n",
      "Epoch 125/200\n",
      "31/31 [==============================] - 0s 1000us/step - loss: 0.0098\n",
      "Epoch 126/200\n",
      "31/31 [==============================] - 0s 968us/step - loss: 0.0098\n",
      "Epoch 127/200\n",
      "31/31 [==============================] - 0s 806us/step - loss: 0.0098\n",
      "Epoch 128/200\n",
      "31/31 [==============================] - 0s 839us/step - loss: 0.0098\n",
      "Epoch 129/200\n",
      "31/31 [==============================] - 0s 839us/step - loss: 0.0098\n",
      "Epoch 130/200\n",
      "31/31 [==============================] - 0s 839us/step - loss: 0.0098\n",
      "Epoch 131/200\n",
      "31/31 [==============================] - 0s 839us/step - loss: 0.0098\n",
      "Epoch 132/200\n",
      "31/31 [==============================] - 0s 806us/step - loss: 0.0098\n",
      "Epoch 133/200\n",
      "31/31 [==============================] - 0s 936us/step - loss: 0.0098\n",
      "Epoch 134/200\n",
      "31/31 [==============================] - 0s 1ms/step - loss: 0.0098\n",
      "Epoch 135/200\n",
      "31/31 [==============================] - 0s 1ms/step - loss: 0.0098\n",
      "Epoch 136/200\n",
      "31/31 [==============================] - 0s 907us/step - loss: 0.0098\n",
      "Epoch 137/200\n",
      "31/31 [==============================] - 0s 806us/step - loss: 0.0098\n",
      "Epoch 138/200\n",
      "31/31 [==============================] - 0s 935us/step - loss: 0.0098\n",
      "Epoch 139/200\n",
      "31/31 [==============================] - 0s 774us/step - loss: 0.0098\n",
      "Epoch 140/200\n",
      "31/31 [==============================] - 0s 774us/step - loss: 0.0098\n",
      "Epoch 141/200\n",
      "31/31 [==============================] - 0s 839us/step - loss: 0.0098\n",
      "Epoch 142/200\n",
      "31/31 [==============================] - 0s 936us/step - loss: 0.0098\n",
      "Epoch 143/200\n",
      "31/31 [==============================] - 0s 775us/step - loss: 0.0098\n",
      "Epoch 144/200\n",
      "31/31 [==============================] - 0s 871us/step - loss: 0.0098\n",
      "Epoch 145/200\n",
      "31/31 [==============================] - 0s 806us/step - loss: 0.0098\n",
      "Epoch 146/200\n",
      "31/31 [==============================] - 0s 774us/step - loss: 0.0098\n",
      "Epoch 147/200\n",
      "31/31 [==============================] - 0s 710us/step - loss: 0.0098\n",
      "Epoch 148/200\n",
      "31/31 [==============================] - 0s 774us/step - loss: 0.0098\n",
      "Epoch 149/200\n",
      "31/31 [==============================] - 0s 710us/step - loss: 0.0098\n",
      "Epoch 150/200\n",
      "31/31 [==============================] - 0s 903us/step - loss: 0.0098\n",
      "Epoch 151/200\n",
      "31/31 [==============================] - 0s 871us/step - loss: 0.0098\n",
      "Epoch 152/200\n",
      "31/31 [==============================] - 0s 935us/step - loss: 0.0098\n",
      "Epoch 153/200\n",
      "31/31 [==============================] - 0s 969us/step - loss: 0.0098\n",
      "Epoch 154/200\n",
      "31/31 [==============================] - 0s 990us/step - loss: 0.0098\n",
      "Epoch 155/200\n",
      "31/31 [==============================] - 0s 774us/step - loss: 0.0098\n",
      "Epoch 156/200\n",
      "31/31 [==============================] - 0s 760us/step - loss: 0.0098\n",
      "Epoch 157/200\n",
      "31/31 [==============================] - 0s 742us/step - loss: 0.0098\n",
      "Epoch 158/200\n",
      "31/31 [==============================] - 0s 935us/step - loss: 0.0098\n",
      "Epoch 159/200\n",
      "31/31 [==============================] - 0s 1ms/step - loss: 0.0098\n",
      "Epoch 160/200\n",
      "31/31 [==============================] - 0s 968us/step - loss: 0.0098\n",
      "Epoch 161/200\n",
      "31/31 [==============================] - 0s 1000us/step - loss: 0.0098\n",
      "Epoch 162/200\n",
      "31/31 [==============================] - 0s 1ms/step - loss: 0.0098\n",
      "Epoch 163/200\n",
      "31/31 [==============================] - 0s 871us/step - loss: 0.0098\n",
      "Epoch 164/200\n",
      "31/31 [==============================] - 0s 806us/step - loss: 0.0098\n",
      "Epoch 165/200\n",
      "31/31 [==============================] - 0s 935us/step - loss: 0.0098\n",
      "Epoch 166/200\n",
      "31/31 [==============================] - 0s 903us/step - loss: 0.0098\n",
      "Epoch 167/200\n",
      "31/31 [==============================] - 0s 774us/step - loss: 0.0098\n",
      "Epoch 168/200\n",
      "31/31 [==============================] - 0s 774us/step - loss: 0.0098\n",
      "Epoch 169/200\n",
      "31/31 [==============================] - 0s 871us/step - loss: 0.0098\n",
      "Epoch 170/200\n",
      "31/31 [==============================] - 0s 957us/step - loss: 0.0098\n",
      "Epoch 171/200\n",
      "31/31 [==============================] - 0s 967us/step - loss: 0.0098\n",
      "Epoch 172/200\n",
      "31/31 [==============================] - 0s 935us/step - loss: 0.0098\n",
      "Epoch 173/200\n",
      "31/31 [==============================] - 0s 856us/step - loss: 0.0098\n",
      "Epoch 174/200\n",
      "31/31 [==============================] - 0s 807us/step - loss: 0.0098\n",
      "Epoch 175/200\n",
      "31/31 [==============================] - 0s 710us/step - loss: 0.0098\n",
      "Epoch 176/200\n",
      "31/31 [==============================] - 0s 710us/step - loss: 0.0098\n",
      "Epoch 177/200\n",
      "31/31 [==============================] - 0s 742us/step - loss: 0.0098\n",
      "Epoch 178/200\n",
      "31/31 [==============================] - 0s 710us/step - loss: 0.0098\n",
      "Epoch 179/200\n",
      "31/31 [==============================] - 0s 774us/step - loss: 0.0098\n",
      "Epoch 180/200\n",
      "31/31 [==============================] - 0s 709us/step - loss: 0.0098\n",
      "Epoch 181/200\n",
      "31/31 [==============================] - 0s 806us/step - loss: 0.0098\n",
      "Epoch 182/200\n",
      "31/31 [==============================] - 0s 710us/step - loss: 0.0098\n",
      "Epoch 183/200\n",
      "31/31 [==============================] - 0s 935us/step - loss: 0.0098\n",
      "Epoch 184/200\n",
      "31/31 [==============================] - 0s 968us/step - loss: 0.0098\n",
      "Epoch 185/200\n",
      "31/31 [==============================] - 0s 1ms/step - loss: 0.0098\n",
      "Epoch 186/200\n",
      "31/31 [==============================] - 0s 1ms/step - loss: 0.0098\n",
      "Epoch 187/200\n",
      "31/31 [==============================] - 0s 1ms/step - loss: 0.0098\n",
      "Epoch 188/200\n",
      "31/31 [==============================] - 0s 839us/step - loss: 0.0098\n",
      "Epoch 189/200\n",
      "31/31 [==============================] - 0s 871us/step - loss: 0.0098\n",
      "Epoch 190/200\n",
      "31/31 [==============================] - 0s 710us/step - loss: 0.0098\n",
      "Epoch 191/200\n",
      "31/31 [==============================] - 0s 1ms/step - loss: 0.0098\n",
      "Epoch 192/200\n",
      "31/31 [==============================] - 0s 871us/step - loss: 0.0098\n",
      "Epoch 193/200\n",
      "31/31 [==============================] - 0s 1ms/step - loss: 0.0098\n",
      "Epoch 194/200\n",
      "31/31 [==============================] - 0s 935us/step - loss: 0.0098\n",
      "Epoch 195/200\n",
      "31/31 [==============================] - 0s 968us/step - loss: 0.0098\n",
      "Epoch 196/200\n",
      "31/31 [==============================] - 0s 871us/step - loss: 0.0098\n",
      "Epoch 197/200\n"
     ]
    },
    {
     "name": "stdout",
     "output_type": "stream",
     "text": [
      "31/31 [==============================] - 0s 806us/step - loss: 0.0098\n",
      "Epoch 198/200\n",
      "31/31 [==============================] - 0s 935us/step - loss: 0.0098\n",
      "Epoch 199/200\n",
      "31/31 [==============================] - 0s 871us/step - loss: 0.0098\n",
      "Epoch 200/200\n",
      "31/31 [==============================] - 0s 870us/step - loss: 0.0098\n",
      "The R2 score on the Train set is:\t0.876\n",
      "The Adjusted R2 score on the Train set is:\t0.872\n",
      "\n",
      "The R2 score on the Test set is:\t0.306\n",
      "The Adjusted R2 score on the Test set is:\t0.262\n"
     ]
    }
   ],
   "source": [
    "from keras.layers import LSTM\n",
    "K.clear_session()\n",
    "model_lstm = Sequential()\n",
    "model_lstm.add(LSTM(7, input_shape=(1, X_train.shape[1]), activation='relu', kernel_initializer='lecun_uniform', return_sequences=False))\n",
    "model_lstm.add(Dense(1))\n",
    "model_lstm.compile(loss='mean_squared_error', optimizer='adam')\n",
    "early_stop = EarlyStopping(monitor='loss', patience=5, verbose=1)\n",
    "history_model_lstm = model_lstm.fit(X_tr_t, y_train, epochs=200, batch_size=1, verbose=1, shuffle=False, callbacks=[early_stop])\n",
    "\n",
    "y_pred_test_lstm = model_lstm.predict(X_tst_t)\n",
    "y_train_pred_lstm = model_lstm.predict(X_tr_t)\n",
    "print(\"The R2 score on the Train set is:\\t{:0.3f}\".format(r2_score(y_train, y_train_pred_lstm)))\n",
    "r2_train = r2_score(y_train, y_train_pred_lstm)\n",
    "print(\"The Adjusted R2 score on the Train set is:\\t{:0.3f}\\n\".format(adj_r2_score(r2_train, X_train.shape[0], X_train.shape[1])))\n",
    "print(\"The R2 score on the Test set is:\\t{:0.3f}\".format(r2_score(y_test, y_pred_test_lstm)))\n",
    "r2_test = r2_score(y_test, y_pred_test_lstm)\n",
    "print(\"The Adjusted R2 score on the Test set is:\\t{:0.3f}\".format(adj_r2_score(r2_test, X_test.shape[0], X_test.shape[1])))"
   ]
  },
  {
   "cell_type": "code",
   "execution_count": 79,
   "metadata": {},
   "outputs": [],
   "source": [
    "model_lstm.save('LSTM_NonShift.h5')"
   ]
  },
  {
   "cell_type": "code",
   "execution_count": 80,
   "metadata": {},
   "outputs": [],
   "source": [
    "\n",
    "model_ann = load_model('ANN_NonShift.h5')\n",
    "model_lstm = load_model('LSTM_NonShift.h5')"
   ]
  },
  {
   "cell_type": "code",
   "execution_count": 81,
   "metadata": {},
   "outputs": [
    {
     "name": "stdout",
     "output_type": "stream",
     "text": [
      "18/18 [==============================] - 0s 555us/step - loss: 0.0126\n",
      " 1/18 [>.............................] - ETA: 0s - loss: 0.0042WARNING:tensorflow:Callbacks method `on_test_batch_end` is slow compared to the batch time (batch time: 0.0000s vs `on_test_batch_end` time: 0.0010s). Check your callbacks.\n",
      "18/18 [==============================] - 0s 651us/step - loss: 0.0156\n"
     ]
    }
   ],
   "source": [
    "score_ann= model_ann.evaluate(X_test, y_test, batch_size=1)\n",
    "score_lstm= model_lstm.evaluate(X_tst_t, y_test, batch_size=1)"
   ]
  },
  {
   "cell_type": "code",
   "execution_count": 83,
   "metadata": {},
   "outputs": [
    {
     "name": "stdout",
     "output_type": "stream",
     "text": [
      "ANN: 0.012591\n",
      "LSTM: 0.015589\n"
     ]
    }
   ],
   "source": [
    "print('ANN: %f'%score_ann)\n",
    "print('LSTM: %f'%score_lstm)\n"
   ]
  },
  {
   "cell_type": "code",
   "execution_count": 84,
   "metadata": {},
   "outputs": [
    {
     "name": "stdout",
     "output_type": "stream",
     "text": [
      "WARNING:tensorflow:5 out of the last 14 calls to <function Model.make_predict_function.<locals>.predict_function at 0x0000015DB46D08C8> triggered tf.function retracing. Tracing is expensive and the excessive number of tracings could be due to (1) creating @tf.function repeatedly in a loop, (2) passing tensors with different shapes, (3) passing Python objects instead of tensors. For (1), please define your @tf.function outside of the loop. For (2), @tf.function has experimental_relax_shapes=True option that relaxes argument shapes that can avoid unnecessary retracing. For (3), please refer to https://www.tensorflow.org/tutorials/customization/performance#python_or_tensor_args and https://www.tensorflow.org/api_docs/python/tf/function for  more details.\n"
     ]
    }
   ],
   "source": [
    "\n",
    "y_pred_test_ANN = model_ann.predict(X_test)\n",
    "y_pred_test_LSTM = model_lstm.predict(X_tst_t)"
   ]
  },
  {
   "cell_type": "code",
   "execution_count": 86,
   "metadata": {},
   "outputs": [],
   "source": [
    "col1 = pd.DataFrame(y_test, columns=['True'])\n",
    "col2 = pd.DataFrame(y_pred_test_ANN, columns=['ANN_prediction'])\n",
    "col3 = pd.DataFrame(y_pred_test_LSTM, columns=['LSTM_prediction'])\n",
    "col4 = pd.DataFrame(history.history['loss'], columns=['Loss_ANN'])\n",
    "col5 = pd.DataFrame(history_model_lstm.history['loss'], columns=['Loss_LSTM'])\n",
    "results = pd.concat([col1, col2, col3, col4, col5], axis=1)\n",
    "results.to_excel('PredictionResults_ANN-LSTM_NonShift.xlsx')"
   ]
  },
  {
   "cell_type": "code",
   "execution_count": 87,
   "metadata": {},
   "outputs": [
    {
     "data": {
      "image/png": "[encoded data removed]",
      "text/plain": [
       "<Figure size 432x288 with 1 Axes>"
      ]
     },
     "metadata": {
      "needs_background": "light"
     },
     "output_type": "display_data"
    }
   ],
   "source": [
    "\n",
    "plt.plot(y_test, label='True')\n",
    "plt.plot(y_pred_test_ANN, label='ANN')\n",
    "plt.title(\"ANN's_Prediction\")\n",
    "plt.xlabel('Observation')\n",
    "plt.ylabel('euro_usd_scaled')\n",
    "plt.legend()\n",
    "plt.show()"
   ]
  },
  {
   "cell_type": "code",
   "execution_count": 88,
   "metadata": {},
   "outputs": [
    {
     "data": {
      "image/png": "[encoded data removed]",
      "text/plain": [
       "<Figure size 432x288 with 1 Axes>"
      ]
     },
     "metadata": {
      "needs_background": "light"
     },
     "output_type": "display_data"
    }
   ],
   "source": [
    "plt.plot(y_test, label='True')\n",
    "plt.plot(y_pred_test_LSTM, label='LSTM')\n",
    "plt.title(\"LSTM's_Prediction\")\n",
    "plt.xlabel('Observation')\n",
    "plt.ylabel('euro_Scaled')\n",
    "plt.legend()\n",
    "plt.show()"
   ]
  },
  {
   "cell_type": "code",
   "execution_count": null,
   "metadata": {},
   "outputs": [],
   "source": []
  }
 ],
 "metadata": {
  "kernelspec": {
   "display_name": "Python 3",
   "language": "python",
   "name": "python3"
  },
  "language_info": {
   "codemirror_mode": {
    "name": "ipython",
    "version": 3
   },
   "file_extension": ".py",
   "mimetype": "text/x-python",
   "name": "python",
   "nbconvert_exporter": "python",
   "pygments_lexer": "ipython3",
   "version": "3.7.0"
  }
 },
 "nbformat": 4,
 "nbformat_minor": 4
}
